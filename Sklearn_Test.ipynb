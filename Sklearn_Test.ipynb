{
 "cells": [
  {
   "cell_type": "code",
   "execution_count": 1,
   "metadata": {},
   "outputs": [],
   "source": [
    "from preprocessing import preprocess\n",
    "import pandas as pd\n",
    "import sklearn as sk\n",
    "from sklearn.linear_model import LogisticRegression"
   ]
  },
  {
   "cell_type": "code",
   "execution_count": 2,
   "metadata": {},
   "outputs": [],
   "source": [
    "train_file = \"data/FRISS_ClaimHistory_training.csv\"\n",
    "test_file = \"data/FRISS_ClaimHistory_test.csv\"\n",
    "fraud_file = \"data/fraud_cases.csv\""
   ]
  },
  {
   "cell_type": "code",
   "execution_count": 22,
   "metadata": {},
   "outputs": [
    {
     "name": "stdout",
     "output_type": "stream",
     "text": [
      "Finished preprocessing.\n",
      "Dropped 182 Train entries.\n",
      "Dropped 43 Test entries.\n",
      "Preprocessing took 1.20 seconds\n"
     ]
    }
   ],
   "source": [
    "train, test = preprocess(train_file, test_file, fraud_file)"
   ]
  },
  {
   "cell_type": "code",
   "execution_count": 31,
   "metadata": {},
   "outputs": [],
   "source": [
    "# Balance train\n",
    "fraud_entries = train[train[\"sys_fraud\"] == 1]\n",
    "non_fraud_entries = train[train[\"sys_fraud\"] == 0].sample(len(fraud_entries))\n",
    "train = fraud_entries.append(non_fraud_entries).sample(frac=1.0)"
   ]
  },
  {
   "cell_type": "code",
   "execution_count": 23,
   "metadata": {},
   "outputs": [],
   "source": [
    "drop_cols = ['sys_claimid', 'claim_amount_claimed_total', 'occurred_year', 'occurred_month', 'occurred_day', 'reported_year', 'reported_month', 'reported_day']\n",
    "test = test.drop(columns=drop_cols)\n",
    "train = train.drop(columns=drop_cols)"
   ]
  },
  {
   "cell_type": "code",
   "execution_count": 24,
   "metadata": {},
   "outputs": [
    {
     "data": {
      "text/plain": [
       "Index(['claim_location_urban_area', 'object_year_construction',\n",
       "       'policy_fleet_flag', 'policy_insured_amount', 'policy_profitability',\n",
       "       'sys_fraud', 'claim_time_interval', 'cause_Animals', 'cause_Collision',\n",
       "       'cause_Other', 'cause_Theft', 'cause_Weather', 'make_AUDI', 'make_BMW',\n",
       "       'make_CITROEN', 'make_OPEL', 'make_OTHER', 'make_RENAULT',\n",
       "       'make_VOLKSWAGEN'],\n",
       "      dtype='object')"
      ]
     },
     "execution_count": 24,
     "metadata": {},
     "output_type": "execute_result"
    }
   ],
   "source": [
    "train.columns"
   ]
  },
  {
   "cell_type": "code",
   "execution_count": 32,
   "metadata": {},
   "outputs": [],
   "source": [
    "trainX = train.drop(columns=[\"sys_fraud\"])\n",
    "trainY = train[\"sys_fraud\"]\n",
    "\n",
    "testX = test.drop(columns=[\"sys_fraud\"])\n",
    "testY = test[\"sys_fraud\"]"
   ]
  },
  {
   "cell_type": "code",
   "execution_count": 33,
   "metadata": {},
   "outputs": [
    {
     "name": "stdout",
     "output_type": "stream",
     "text": [
      "LR train metrics\n",
      "accuracy:0.5925324675324676\n",
      "recall:0.36363636363636365\n",
      "precision:0.6706586826347305\n",
      "f1:0.471578947368421\n",
      "\n",
      "LR test metrics\n",
      "accuracy:0.5056872275392092\n",
      "recall:0.45588235294117646\n",
      "precision:0.0062924997462701715\n",
      "f1:0.012413655020522574\n"
     ]
    }
   ],
   "source": [
    "# Logistic Regression\n",
    "\n",
    "LR = LogisticRegression(random_state=0, solver='lbfgs', multi_class='ovr').fit(trainX, trainY)\n",
    "\n",
    "preds = LR.predict(trainX)\n",
    "print(\"LR train metrics\")\n",
    "print(f\"accuracy:{sk.metrics.accuracy_score(trainY, preds)}\")\n",
    "print(f\"recall:{sk.metrics.recall_score(trainY, preds)}\")\n",
    "print(f\"precision:{sk.metrics.precision_score(trainY, preds)}\")\n",
    "print(f\"f1:{sk.metrics.f1_score(trainY, preds)}\")\n",
    "print()\n",
    "preds = LR.predict(testX)\n",
    "print(\"LR test metrics\")\n",
    "print(f\"accuracy:{sk.metrics.accuracy_score(testY, preds)}\")\n",
    "print(f\"recall:{sk.metrics.recall_score(testY, preds)}\")\n",
    "print(f\"precision:{sk.metrics.precision_score(testY, preds)}\")\n",
    "print(f\"f1:{sk.metrics.f1_score(testY, preds)}\")"
   ]
  },
  {
   "cell_type": "code",
   "execution_count": 34,
   "metadata": {},
   "outputs": [
    {
     "name": "stdout",
     "output_type": "stream",
     "text": [
      "LR train metrics\n",
      "accuracy:0.5\n",
      "recall:0.0\n",
      "precision:0.0\n",
      "f1:0.0\n",
      "\n",
      "LR test metrics\n",
      "accuracy:0.829232850628852\n",
      "recall:0.15441176470588236\n",
      "precision:0.006336753168376584\n",
      "f1:0.012173913043478259\n"
     ]
    },
    {
     "name": "stderr",
     "output_type": "stream",
     "text": [
      "/home/orlando/anaconda3/lib/python3.8/site-packages/sklearn/svm/_base.py:976: ConvergenceWarning: Liblinear failed to converge, increase the number of iterations.\n",
      "  warnings.warn(\"Liblinear failed to converge, increase \"\n",
      "/home/orlando/anaconda3/lib/python3.8/site-packages/sklearn/metrics/_classification.py:1221: UndefinedMetricWarning: Precision is ill-defined and being set to 0.0 due to no predicted samples. Use `zero_division` parameter to control this behavior.\n",
      "  _warn_prf(average, modifier, msg_start, len(result))\n"
     ]
    }
   ],
   "source": [
    "# Support vector machines\n",
    "\n",
    "SVM = sk.svm.LinearSVC()\n",
    "SVM.fit(trainX, trainY)\n",
    "\n",
    "preds = SVM.predict(trainX)\n",
    "print(\"LR train metrics\")\n",
    "print(f\"accuracy:{sk.metrics.accuracy_score(trainY, preds)}\")\n",
    "print(f\"recall:{sk.metrics.recall_score(trainY, preds)}\")\n",
    "print(f\"precision:{sk.metrics.precision_score(trainY, preds)}\")\n",
    "print(f\"f1:{sk.metrics.f1_score(trainY, preds)}\")\n",
    "print()\n",
    "preds = SVM.predict(testX)\n",
    "print(\"LR test metrics\")\n",
    "print(f\"accuracy:{sk.metrics.accuracy_score(testY, preds)}\")\n",
    "print(f\"recall:{sk.metrics.recall_score(testY, preds)}\")\n",
    "print(f\"precision:{sk.metrics.precision_score(testY, preds)}\")\n",
    "print(f\"f1:{sk.metrics.f1_score(testY, preds)}\")"
   ]
  },
  {
   "cell_type": "code",
   "execution_count": 39,
   "metadata": {},
   "outputs": [
    {
     "name": "stdout",
     "output_type": "stream",
     "text": [
      "RF train metrics\n",
      "accuracy:0.7077922077922078\n",
      "recall:0.577922077922078\n",
      "precision:0.7807017543859649\n",
      "f1:0.664179104477612\n",
      "\n",
      "RF test metrics\n",
      "accuracy:0.431177030615824\n",
      "recall:0.6470588235294118\n",
      "precision:0.007724719101123595\n",
      "f1:0.015267175572519083\n"
     ]
    }
   ],
   "source": [
    "# Random forests\n",
    "from sklearn.ensemble import RandomForestClassifier\n",
    "\n",
    "RF = RandomForestClassifier(n_estimators=1000, max_depth=6, random_state=0)\n",
    "RF.fit(trainX, trainY)\n",
    "\n",
    "preds = RF.predict(trainX)\n",
    "print(\"RF train metrics\")\n",
    "print(f\"accuracy:{sk.metrics.accuracy_score(trainY, preds)}\")\n",
    "print(f\"recall:{sk.metrics.recall_score(trainY, preds)}\")\n",
    "print(f\"precision:{sk.metrics.precision_score(trainY, preds)}\")\n",
    "print(f\"f1:{sk.metrics.f1_score(trainY, preds)}\")\n",
    "print()\n",
    "preds = RF.predict(testX)\n",
    "print(\"RF test metrics\")\n",
    "print(f\"accuracy:{sk.metrics.accuracy_score(testY, preds)}\")\n",
    "print(f\"recall:{sk.metrics.recall_score(testY, preds)}\")\n",
    "print(f\"precision:{sk.metrics.precision_score(testY, preds)}\")\n",
    "print(f\"f1:{sk.metrics.f1_score(testY, preds)}\")"
   ]
  },
  {
   "cell_type": "code",
   "execution_count": 36,
   "metadata": {},
   "outputs": [
    {
     "name": "stdout",
     "output_type": "stream",
     "text": [
      "NN train metrics\n",
      "accuracy:0.5\n",
      "recall:1.0\n",
      "precision:0.5\n",
      "f1:0.6666666666666666\n",
      "\n",
      "NN test metrics\n",
      "accuracy:0.006914866963972541\n",
      "recall:1.0\n",
      "precision:0.00681533450263092\n",
      "f1:0.013538400278731771\n"
     ]
    }
   ],
   "source": [
    "# Multi level perceptron\n",
    "from sklearn.neural_network import MLPClassifier\n",
    "\n",
    "NN = MLPClassifier(solver='lbfgs', alpha=1e-4, hidden_layer_sizes=(16, 8, 2), random_state=1, max_iter=10000)\n",
    "NN.fit(trainX, trainY)\n",
    "\n",
    "preds = NN.predict(trainX)\n",
    "print(\"NN train metrics\")\n",
    "print(f\"accuracy:{sk.metrics.accuracy_score(trainY, preds)}\")\n",
    "print(f\"recall:{sk.metrics.recall_score(trainY, preds)}\")\n",
    "print(f\"precision:{sk.metrics.precision_score(trainY, preds)}\")\n",
    "print(f\"f1:{sk.metrics.f1_score(trainY, preds)}\")\n",
    "print()\n",
    "preds = NN.predict(testX)\n",
    "print(\"NN test metrics\")\n",
    "print(f\"accuracy:{sk.metrics.accuracy_score(testY, preds)}\")\n",
    "print(f\"recall:{sk.metrics.recall_score(testY, preds)}\")\n",
    "print(f\"precision:{sk.metrics.precision_score(testY, preds)}\")\n",
    "print(f\"f1:{sk.metrics.f1_score(testY, preds)}\")"
   ]
  },
  {
   "cell_type": "code",
   "execution_count": 37,
   "metadata": {},
   "outputs": [
    {
     "data": {
      "text/plain": [
       "array([1., 1., 1., ..., 1., 1., 1.])"
      ]
     },
     "execution_count": 37,
     "metadata": {},
     "output_type": "execute_result"
    }
   ],
   "source": [
    "preds"
   ]
  },
  {
   "cell_type": "code",
   "execution_count": null,
   "metadata": {},
   "outputs": [],
   "source": []
  }
 ],
 "metadata": {
  "kernelspec": {
   "display_name": "Python 3",
   "language": "python",
   "name": "python3"
  },
  "language_info": {
   "codemirror_mode": {
    "name": "ipython",
    "version": 3
   },
   "file_extension": ".py",
   "mimetype": "text/x-python",
   "name": "python",
   "nbconvert_exporter": "python",
   "pygments_lexer": "ipython3",
   "version": "3.8.5"
  }
 },
 "nbformat": 4,
 "nbformat_minor": 4
}
