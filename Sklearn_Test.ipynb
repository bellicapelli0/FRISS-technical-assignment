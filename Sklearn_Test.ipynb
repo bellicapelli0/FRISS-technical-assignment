{
 "cells": [
  {
   "cell_type": "code",
   "execution_count": 1,
   "metadata": {},
   "outputs": [],
   "source": [
    "from preprocessing import preprocess\n",
    "import pandas as pd\n",
    "import sklearn as sk\n",
    "from sklearn.linear_model import LogisticRegression\n",
    "from sklearn.metrics import accuracy_score, precision_score, recall_score, f1_score, roc_auc_score, balanced_accuracy_score\n",
    "from sklearn.metrics import confusion_matrix, ConfusionMatrixDisplay"
   ]
  },
  {
   "cell_type": "code",
   "execution_count": 2,
   "metadata": {},
   "outputs": [],
   "source": [
    "train_file = \"data/FRISS_ClaimHistory_training.csv\"\n",
    "test_file = \"data/FRISS_ClaimHistory_test.csv\"\n",
    "fraud_file = \"data/fraud_cases.csv\""
   ]
  },
  {
   "cell_type": "code",
   "execution_count": 3,
   "metadata": {},
   "outputs": [
    {
     "name": "stdout",
     "output_type": "stream",
     "text": [
      "Finished preprocessing.\n",
      "Dropped 182 Train entries.\n",
      "Dropped 43 Test entries.\n",
      "Preprocessing took 2.69 seconds\n"
     ]
    }
   ],
   "source": [
    "train, test = preprocess(train_file, test_file, fraud_file)"
   ]
  },
  {
   "cell_type": "code",
   "execution_count": 4,
   "metadata": {},
   "outputs": [],
   "source": [
    "# # Balance train\n",
    "# fraud_entries = train[train[\"sys_fraud\"] == 1]\n",
    "# non_fraud_entries = train[train[\"sys_fraud\"] == 0].sample(len(fraud_entries))\n",
    "# train = fraud_entries.append(non_fraud_entries).sample(frac=1.0)"
   ]
  },
  {
   "cell_type": "code",
   "execution_count": 5,
   "metadata": {},
   "outputs": [],
   "source": [
    "drop_cols = ['sys_claimid', 'occurred_year', 'occurred_month', 'occurred_day', 'reported_year', 'reported_month', 'reported_day']\n",
    "test = test.drop(columns=drop_cols)\n",
    "train = train.drop(columns=drop_cols)"
   ]
  },
  {
   "cell_type": "code",
   "execution_count": 6,
   "metadata": {},
   "outputs": [],
   "source": [
    "def print_metrics(y, preds):\n",
    "  print(\"- Accuracy: {0:.4f}\".format(accuracy_score(preds, y)))\n",
    "  print(\"- Balanced Accuracy: {0:.4f}\".format(balanced_accuracy_score(y, preds)))\n",
    "  print(\"- Precision: {0:.4f}\".format(precision_score(preds, y)))\n",
    "  print(\"- Recall: {0:.4f}\".format(recall_score(preds, y)))\n",
    "  print(\"- F1: {0:.4f}\".format(f1_score(preds, y)))\n",
    "  cm = confusion_matrix(y, preds)\n",
    "  cmd_obj = ConfusionMatrixDisplay(cm) \n",
    "  cmd_obj.plot()"
   ]
  },
  {
   "cell_type": "code",
   "execution_count": 7,
   "metadata": {},
   "outputs": [
    {
     "data": {
      "text/plain": [
       "Index(['claim_amount_claimed_total', 'claim_location_urban_area',\n",
       "       'object_year_construction', 'policy_fleet_flag', 'sys_fraud',\n",
       "       'claim_time_interval', 'cause_Animals', 'cause_Collision',\n",
       "       'cause_Other', 'cause_Theft', 'cause_Weather', 'make_AUDI', 'make_BMW',\n",
       "       'make_CITROEN', 'make_OPEL', 'make_OTHER', 'make_RENAULT',\n",
       "       'make_VOLKSWAGEN', 'profitability_High', 'profitability_Low',\n",
       "       'profitability_Neutral', 'profitability_Very high',\n",
       "       'profitability_Very low', 'prev_claims'],\n",
       "      dtype='object')"
      ]
     },
     "execution_count": 7,
     "metadata": {},
     "output_type": "execute_result"
    }
   ],
   "source": [
    "train.columns"
   ]
  },
  {
   "cell_type": "code",
   "execution_count": 8,
   "metadata": {},
   "outputs": [],
   "source": [
    "# # Basic Undersampling\n",
    "\n",
    "# fraud_entries = train[train[\"sys_fraud\"] == 1]\n",
    "# non_fraud_entries = train[train[\"sys_fraud\"] == 0].sample(len(fraud_entries))\n",
    "# train = fraud_entries.append(non_fraud_entries).sample(frac=1.0)"
   ]
  },
  {
   "cell_type": "code",
   "execution_count": 9,
   "metadata": {},
   "outputs": [],
   "source": [
    "# # Cluster Undersampling\n",
    "\n",
    "# from imblearn.under_sampling import ClusterCentroids\n",
    "# cc = ClusterCentroids(random_state=0)\n",
    "# train, y = cc.fit_resample(train.drop(columns=[\"sys_fraud\"]), train[\"sys_fraud\"])\n",
    "# train[\"sys_fraud\"] = y\n",
    "# train = train.sample(frac=1.0)"
   ]
  },
  {
   "cell_type": "code",
   "execution_count": 10,
   "metadata": {},
   "outputs": [],
   "source": [
    "# # SMOTE over-sampling\n",
    "\n",
    "# from imblearn.over_sampling import SMOTE\n",
    "# smote = SMOTE()\n",
    "# train, y = smote.fit_resample(train.drop(columns=[\"sys_fraud\"]), train[\"sys_fraud\"])\n",
    "# train[\"sys_fraud\"] = y\n",
    "# train = train.sample(frac=1.0)"
   ]
  },
  {
   "cell_type": "code",
   "execution_count": 11,
   "metadata": {},
   "outputs": [],
   "source": [
    "# # Over and Under sampling\n",
    "\n",
    "# from imblearn.combine import SMOTEENN\n",
    "# smoteenn = SMOTEENN()\n",
    "# train, y = smoteenn.fit_resample(train.drop(columns=[\"sys_fraud\"]), train[\"sys_fraud\"])\n",
    "# train[\"sys_fraud\"] = y\n",
    "# train = train.sample(frac=1.0)"
   ]
  },
  {
   "cell_type": "code",
   "execution_count": 12,
   "metadata": {},
   "outputs": [],
   "source": [
    "# from imblearn.combine import SMOTETomek\n",
    "# smote_tomek = SMOTETomek(random_state=0)\n",
    "# train, y = smote_tomek.fit_resample(train.drop(columns=[\"sys_fraud\"]), train[\"sys_fraud\"])\n",
    "# train[\"sys_fraud\"] = y\n",
    "\n",
    "# train = train.sample(frac=1.0)"
   ]
  },
  {
   "cell_type": "code",
   "execution_count": 13,
   "metadata": {},
   "outputs": [],
   "source": [
    "# Random Undersampler\n",
    "\n",
    "from imblearn.under_sampling import RandomUnderSampler\n",
    "rus = RandomUnderSampler(random_state=0)\n",
    "train, y = rus.fit_resample(train.drop(columns=[\"sys_fraud\"]), train[\"sys_fraud\"])\n",
    "\n",
    "train[\"sys_fraud\"] = y\n",
    "train = train.sample(frac=1.0)"
   ]
  },
  {
   "cell_type": "code",
   "execution_count": 14,
   "metadata": {},
   "outputs": [],
   "source": [
    "trainX = train.drop(columns=[\"sys_fraud\"])\n",
    "trainY = train[\"sys_fraud\"]\n",
    "\n",
    "testX = test.drop(columns=[\"sys_fraud\"])\n",
    "testY = test[\"sys_fraud\"]"
   ]
  },
  {
   "cell_type": "code",
   "execution_count": 15,
   "metadata": {},
   "outputs": [
    {
     "name": "stdout",
     "output_type": "stream",
     "text": [
      "- Accuracy: 0.5982\n",
      "- Balanced Accuracy: 0.5982\n",
      "- Precision: 0.6250\n",
      "- Recall: 0.5932\n",
      "- F1: 0.6087\n"
     ]
    },
    {
     "data": {
      "image/png": "[encoded data removed]",
      "text/plain": [
       "<Figure size 432x288 with 2 Axes>"
      ]
     },
     "metadata": {
      "needs_background": "light"
     },
     "output_type": "display_data"
    }
   ],
   "source": [
    "# Logistic Regression\n",
    "\n",
    "LR = LogisticRegression(random_state=0, solver='lbfgs', multi_class='ovr').fit(trainX, trainY)\n",
    "\n",
    "preds = LR.predict(trainX)\n",
    "print_metrics(trainY, preds)"
   ]
  },
  {
   "cell_type": "code",
   "execution_count": 16,
   "metadata": {},
   "outputs": [
    {
     "name": "stdout",
     "output_type": "stream",
     "text": [
      "- Accuracy: 0.5449\n",
      "- Balanced Accuracy: 0.5847\n",
      "- Precision: 0.6250\n",
      "- Recall: 0.0093\n",
      "- F1: 0.0184\n"
     ]
    },
    {
     "data": {
      "image/png": "[encoded data removed]",
      "text/plain": [
       "<Figure size 432x288 with 2 Axes>"
      ]
     },
     "metadata": {
      "needs_background": "light"
     },
     "output_type": "display_data"
    }
   ],
   "source": [
    "preds = LR.predict(testX)\n",
    "print_metrics(testY, preds)"
   ]
  },
  {
   "cell_type": "code",
   "execution_count": 17,
   "metadata": {},
   "outputs": [
    {
     "name": "stdout",
     "output_type": "stream",
     "text": [
      "- Accuracy: 0.6006\n",
      "- Balanced Accuracy: 0.6006\n",
      "- Precision: 0.6201\n",
      "- Recall: 0.5969\n",
      "- F1: 0.6083\n"
     ]
    },
    {
     "data": {
      "image/png": "[encoded data removed]",
      "text/plain": [
       "<Figure size 432x288 with 2 Axes>"
      ]
     },
     "metadata": {
      "needs_background": "light"
     },
     "output_type": "display_data"
    }
   ],
   "source": [
    "# Support vector machines\n",
    "\n",
    "SVM = sk.svm.LinearSVC()\n",
    "SVM.fit(trainX, trainY)\n",
    "\n",
    "preds = SVM.predict(trainX)\n",
    "print_metrics(trainY, preds)"
   ]
  },
  {
   "cell_type": "code",
   "execution_count": 18,
   "metadata": {},
   "outputs": [
    {
     "name": "stdout",
     "output_type": "stream",
     "text": [
      "- Accuracy: 0.5363\n",
      "- Balanced Accuracy: 0.5073\n",
      "- Precision: 0.4779\n",
      "- Recall: 0.0070\n",
      "- F1: 0.0139\n"
     ]
    },
    {
     "data": {
      "image/png": "[encoded data removed]",
      "text/plain": [
       "<Figure size 432x288 with 2 Axes>"
      ]
     },
     "metadata": {
      "needs_background": "light"
     },
     "output_type": "display_data"
    }
   ],
   "source": [
    "preds = SVM.predict(testX)\n",
    "print_metrics(testY, preds)"
   ]
  },
  {
   "cell_type": "code",
   "execution_count": 19,
   "metadata": {},
   "outputs": [
    {
     "name": "stdout",
     "output_type": "stream",
     "text": [
      "- Accuracy: 0.7297\n",
      "- Balanced Accuracy: 0.7297\n",
      "- Precision: 0.7062\n",
      "- Recall: 0.7411\n",
      "- F1: 0.7232\n"
     ]
    },
    {
     "data": {
      "image/png": "[encoded data removed]",
      "text/plain": [
       "<Figure size 432x288 with 2 Axes>"
      ]
     },
     "metadata": {
      "needs_background": "light"
     },
     "output_type": "display_data"
    }
   ],
   "source": [
    "# Random forests\n",
    "from sklearn.ensemble import RandomForestClassifier\n",
    "\n",
    "RF = RandomForestClassifier(n_estimators=1000, max_depth=6, random_state=0)\n",
    "RF.fit(trainX, trainY)\n",
    "\n",
    "preds = RF.predict(trainX)\n",
    "print_metrics(trainY, preds)"
   ]
  },
  {
   "cell_type": "code",
   "execution_count": 20,
   "metadata": {},
   "outputs": [
    {
     "name": "stdout",
     "output_type": "stream",
     "text": [
      "- Accuracy: 0.5604\n",
      "- Balanced Accuracy: 0.4975\n",
      "- Precision: 0.4338\n",
      "- Recall: 0.0067\n",
      "- F1: 0.0133\n"
     ]
    },
    {
     "data": {
      "image/png": "[encoded data removed]",
      "text/plain": [
       "<Figure size 432x288 with 2 Axes>"
      ]
     },
     "metadata": {
      "needs_background": "light"
     },
     "output_type": "display_data"
    }
   ],
   "source": [
    "preds = RF.predict(testX)\n",
    "print_metrics(testY, preds)"
   ]
  },
  {
   "cell_type": "code",
   "execution_count": 21,
   "metadata": {},
   "outputs": [
    {
     "name": "stdout",
     "output_type": "stream",
     "text": [
      "- Accuracy: 0.6664\n",
      "- Balanced Accuracy: 0.6664\n",
      "- Precision: 0.9334\n",
      "- Recall: 0.6085\n",
      "- F1: 0.7367\n"
     ]
    },
    {
     "data": {
      "image/png": "[encoded data removed]",
      "text/plain": [
       "<Figure size 432x288 with 2 Axes>"
      ]
     },
     "metadata": {
      "needs_background": "light"
     },
     "output_type": "display_data"
    }
   ],
   "source": [
    "# Multi level perceptron\n",
    "from sklearn.neural_network import MLPClassifier\n",
    "\n",
    "NN = MLPClassifier(solver='lbfgs', alpha=1e-4, hidden_layer_sizes=(16, 8, 2), random_state=1, max_iter=10000)\n",
    "NN.fit(trainX, trainY)\n",
    "\n",
    "preds = NN.predict(trainX)\n",
    "print_metrics(trainY, preds)"
   ]
  },
  {
   "cell_type": "code",
   "execution_count": 22,
   "metadata": {},
   "outputs": [
    {
     "name": "stdout",
     "output_type": "stream",
     "text": [
      "- Accuracy: 0.2669\n",
      "- Balanced Accuracy: 0.5214\n",
      "- Precision: 0.7794\n",
      "- Recall: 0.0072\n",
      "- F1: 0.0143\n"
     ]
    },
    {
     "data": {
      "image/png": "[encoded data removed]",
      "text/plain": [
       "<Figure size 432x288 with 2 Axes>"
      ]
     },
     "metadata": {
      "needs_background": "light"
     },
     "output_type": "display_data"
    }
   ],
   "source": [
    "preds = NN.predict(testX)\n",
    "print_metrics(testY, preds)"
   ]
  }
 ],
 "metadata": {
  "kernelspec": {
   "display_name": "Python 3",
   "language": "python",
   "name": "python3"
  },
  "language_info": {
   "codemirror_mode": {
    "name": "ipython",
    "version": 3
   },
   "file_extension": ".py",
   "mimetype": "text/x-python",
   "name": "python",
   "nbconvert_exporter": "python",
   "pygments_lexer": "ipython3",
   "version": "3.8.5"
  }
 },
 "nbformat": 4,
 "nbformat_minor": 4
}
