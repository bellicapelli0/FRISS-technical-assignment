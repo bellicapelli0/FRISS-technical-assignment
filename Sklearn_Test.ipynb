{
 "cells": [
  {
   "cell_type": "code",
   "execution_count": 1,
   "metadata": {},
   "outputs": [],
   "source": [
    "from preprocessing import preprocess\n",
    "import pandas as pd\n",
    "import sklearn as sk\n",
    "from sklearn.linear_model import LogisticRegression"
   ]
  },
  {
   "cell_type": "code",
   "execution_count": 2,
   "metadata": {},
   "outputs": [],
   "source": [
    "train_file = \"data/FRISS_ClaimHistory_training.csv\"\n",
    "test_file = \"data/FRISS_ClaimHistory_test.csv\"\n",
    "fraud_file = \"data/fraud_cases.csv\""
   ]
  },
  {
   "cell_type": "code",
   "execution_count": 3,
   "metadata": {},
   "outputs": [
    {
     "name": "stdout",
     "output_type": "stream",
     "text": [
      "Finished preprocessing.\n",
      "Dropped 182 Train entries.\n",
      "Dropped 43 Test entries.\n",
      "Preprocessing took 1.13 seconds\n"
     ]
    }
   ],
   "source": [
    "train, test = preprocess(train_file, test_file, fraud_file)"
   ]
  },
  {
   "cell_type": "code",
   "execution_count": 17,
   "metadata": {},
   "outputs": [],
   "source": [
    "# Balance train\n",
    "fraud_entries = train[train[\"sys_fraud\"] == 1]\n",
    "non_fraud_entries = train[train[\"sys_fraud\"] == 0].sample(len(fraud_entries))\n",
    "train = fraud_entries.append(non_fraud_entries).sample(frac=1.0)"
   ]
  },
  {
   "cell_type": "code",
   "execution_count": 18,
   "metadata": {},
   "outputs": [],
   "source": [
    "trainX = train.drop(columns=[\"sys_fraud\"])\n",
    "trainY = train[\"sys_fraud\"]\n",
    "\n",
    "testX = test.drop(columns=[\"sys_fraud\"])\n",
    "testY = test[\"sys_fraud\"]"
   ]
  },
  {
   "cell_type": "code",
   "execution_count": 19,
   "metadata": {},
   "outputs": [
    {
     "name": "stdout",
     "output_type": "stream",
     "text": [
      "LR train metrics\n",
      "accuracy:0.5\n",
      "recall:1.0\n",
      "precision:0.5\n",
      "f1:0.6666666666666666\n",
      "\n",
      "LR test metrics\n",
      "accuracy:0.006814651500726562\n",
      "recall:1.0\n",
      "precision:0.006814651500726562\n",
      "f1:0.013537052704922113\n"
     ]
    }
   ],
   "source": [
    "# Logistic Regression\n",
    "\n",
    "LR = LogisticRegression(random_state=0, solver='lbfgs', multi_class='ovr').fit(trainX, trainY)\n",
    "\n",
    "preds = LR.predict(trainX)\n",
    "print(\"LR train metrics\")\n",
    "print(f\"accuracy:{sk.metrics.accuracy_score(trainY, preds)}\")\n",
    "print(f\"recall:{sk.metrics.recall_score(trainY, preds)}\")\n",
    "print(f\"precision:{sk.metrics.precision_score(trainY, preds)}\")\n",
    "print(f\"f1:{sk.metrics.f1_score(trainY, preds)}\")\n",
    "print()\n",
    "preds = LR.predict(testX)\n",
    "print(\"LR test metrics\")\n",
    "print(f\"accuracy:{sk.metrics.accuracy_score(testY, preds)}\")\n",
    "print(f\"recall:{sk.metrics.recall_score(testY, preds)}\")\n",
    "print(f\"precision:{sk.metrics.precision_score(testY, preds)}\")\n",
    "print(f\"f1:{sk.metrics.f1_score(testY, preds)}\")"
   ]
  },
  {
   "cell_type": "code",
   "execution_count": 20,
   "metadata": {},
   "outputs": [
    {
     "name": "stdout",
     "output_type": "stream",
     "text": [
      "LR train metrics\n",
      "accuracy:0.5\n",
      "recall:0.0\n",
      "precision:0.0\n",
      "f1:0.0\n",
      "\n",
      "LR test metrics\n",
      "accuracy:0.9931853484992734\n",
      "recall:0.0\n",
      "precision:0.0\n",
      "f1:0.0\n"
     ]
    },
    {
     "name": "stderr",
     "output_type": "stream",
     "text": [
      "/home/orlando/anaconda3/lib/python3.8/site-packages/sklearn/svm/_base.py:976: ConvergenceWarning: Liblinear failed to converge, increase the number of iterations.\n",
      "  warnings.warn(\"Liblinear failed to converge, increase \"\n",
      "/home/orlando/anaconda3/lib/python3.8/site-packages/sklearn/metrics/_classification.py:1221: UndefinedMetricWarning: Precision is ill-defined and being set to 0.0 due to no predicted samples. Use `zero_division` parameter to control this behavior.\n",
      "  _warn_prf(average, modifier, msg_start, len(result))\n",
      "/home/orlando/anaconda3/lib/python3.8/site-packages/sklearn/metrics/_classification.py:1221: UndefinedMetricWarning: Precision is ill-defined and being set to 0.0 due to no predicted samples. Use `zero_division` parameter to control this behavior.\n",
      "  _warn_prf(average, modifier, msg_start, len(result))\n"
     ]
    }
   ],
   "source": [
    "# Support vector machines\n",
    "\n",
    "SVM = sk.svm.LinearSVC()\n",
    "SVM.fit(trainX, trainY)\n",
    "\n",
    "preds = SVM.predict(trainX)\n",
    "print(\"LR train metrics\")\n",
    "print(f\"accuracy:{sk.metrics.accuracy_score(trainY, preds)}\")\n",
    "print(f\"recall:{sk.metrics.recall_score(trainY, preds)}\")\n",
    "print(f\"precision:{sk.metrics.precision_score(trainY, preds)}\")\n",
    "print(f\"f1:{sk.metrics.f1_score(trainY, preds)}\")\n",
    "print()\n",
    "preds = SVM.predict(testX)\n",
    "print(\"LR test metrics\")\n",
    "print(f\"accuracy:{sk.metrics.accuracy_score(testY, preds)}\")\n",
    "print(f\"recall:{sk.metrics.recall_score(testY, preds)}\")\n",
    "print(f\"precision:{sk.metrics.precision_score(testY, preds)}\")\n",
    "print(f\"f1:{sk.metrics.f1_score(testY, preds)}\")"
   ]
  },
  {
   "cell_type": "code",
   "execution_count": 21,
   "metadata": {},
   "outputs": [
    {
     "name": "stdout",
     "output_type": "stream",
     "text": [
      "RF train metrics\n",
      "accuracy:0.6363636363636364\n",
      "recall:0.5227272727272727\n",
      "precision:0.6764705882352942\n",
      "f1:0.5897435897435898\n",
      "\n",
      "RF test metrics\n",
      "accuracy:0.4748709725910708\n",
      "recall:0.6470588235294118\n",
      "precision:0.008365019011406844\n",
      "f1:0.016516516516516516\n"
     ]
    }
   ],
   "source": [
    "# Random forests\n",
    "from sklearn.ensemble import RandomForestClassifier\n",
    "\n",
    "RF = RandomForestClassifier(n_estimators=100, max_depth=2, random_state=0)\n",
    "RF.fit(trainX, trainY)\n",
    "\n",
    "preds = RF.predict(trainX)\n",
    "print(\"RF train metrics\")\n",
    "print(f\"accuracy:{sk.metrics.accuracy_score(trainY, preds)}\")\n",
    "print(f\"recall:{sk.metrics.recall_score(trainY, preds)}\")\n",
    "print(f\"precision:{sk.metrics.precision_score(trainY, preds)}\")\n",
    "print(f\"f1:{sk.metrics.f1_score(trainY, preds)}\")\n",
    "print()\n",
    "preds = RF.predict(testX)\n",
    "print(\"RF test metrics\")\n",
    "print(f\"accuracy:{sk.metrics.accuracy_score(testY, preds)}\")\n",
    "print(f\"recall:{sk.metrics.recall_score(testY, preds)}\")\n",
    "print(f\"precision:{sk.metrics.precision_score(testY, preds)}\")\n",
    "print(f\"f1:{sk.metrics.f1_score(testY, preds)}\")"
   ]
  },
  {
   "cell_type": "code",
   "execution_count": 22,
   "metadata": {},
   "outputs": [
    {
     "name": "stdout",
     "output_type": "stream",
     "text": [
      "NN train metrics\n",
      "accuracy:0.5\n",
      "recall:1.0\n",
      "precision:0.5\n",
      "f1:0.6666666666666666\n",
      "\n",
      "NN test metrics\n",
      "accuracy:0.006814651500726562\n",
      "recall:1.0\n",
      "precision:0.006814651500726562\n",
      "f1:0.013537052704922113\n"
     ]
    },
    {
     "name": "stderr",
     "output_type": "stream",
     "text": [
      "/home/orlando/anaconda3/lib/python3.8/site-packages/sklearn/neural_network/_multilayer_perceptron.py:471: ConvergenceWarning: lbfgs failed to converge (status=2):\n",
      "ABNORMAL_TERMINATION_IN_LNSRCH.\n",
      "\n",
      "Increase the number of iterations (max_iter) or scale the data as shown in:\n",
      "    https://scikit-learn.org/stable/modules/preprocessing.html\n",
      "  self.n_iter_ = _check_optimize_result(\"lbfgs\", opt_res, self.max_iter)\n"
     ]
    }
   ],
   "source": [
    "# Multi level perceptron\n",
    "from sklearn.neural_network import MLPClassifier\n",
    "\n",
    "NN = MLPClassifier(solver='lbfgs', alpha=1e-4, hidden_layer_sizes=(16, 8, 2), random_state=1, max_iter=10000)\n",
    "NN.fit(trainX, trainY)\n",
    "\n",
    "preds = NN.predict(trainX)\n",
    "print(\"NN train metrics\")\n",
    "print(f\"accuracy:{sk.metrics.accuracy_score(trainY, preds)}\")\n",
    "print(f\"recall:{sk.metrics.recall_score(trainY, preds)}\")\n",
    "print(f\"precision:{sk.metrics.precision_score(trainY, preds)}\")\n",
    "print(f\"f1:{sk.metrics.f1_score(trainY, preds)}\")\n",
    "print()\n",
    "preds = NN.predict(testX)\n",
    "print(\"NN test metrics\")\n",
    "print(f\"accuracy:{sk.metrics.accuracy_score(testY, preds)}\")\n",
    "print(f\"recall:{sk.metrics.recall_score(testY, preds)}\")\n",
    "print(f\"precision:{sk.metrics.precision_score(testY, preds)}\")\n",
    "print(f\"f1:{sk.metrics.f1_score(testY, preds)}\")"
   ]
  },
  {
   "cell_type": "code",
   "execution_count": 23,
   "metadata": {},
   "outputs": [
    {
     "data": {
      "text/plain": [
       "array([1., 1., 1., ..., 1., 1., 1.])"
      ]
     },
     "execution_count": 23,
     "metadata": {},
     "output_type": "execute_result"
    }
   ],
   "source": [
    "preds"
   ]
  },
  {
   "cell_type": "code",
   "execution_count": null,
   "metadata": {},
   "outputs": [],
   "source": []
  }
 ],
 "metadata": {
  "kernelspec": {
   "display_name": "Python 3",
   "language": "python",
   "name": "python3"
  },
  "language_info": {
   "codemirror_mode": {
    "name": "ipython",
    "version": 3
   },
   "file_extension": ".py",
   "mimetype": "text/x-python",
   "name": "python",
   "nbconvert_exporter": "python",
   "pygments_lexer": "ipython3",
   "version": "3.8.5"
  }
 },
 "nbformat": 4,
 "nbformat_minor": 4
}
