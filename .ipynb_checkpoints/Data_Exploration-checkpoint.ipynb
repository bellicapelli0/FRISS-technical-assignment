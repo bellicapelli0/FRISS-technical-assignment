{
 "cells": [
  {
   "cell_type": "code",
   "execution_count": 32,
   "metadata": {},
   "outputs": [],
   "source": [
    "import pandas as pd\n",
    "from datetime import datetime\n",
    "import numpy as np\n",
    "\n",
    "import matplotlib.pyplot as plt"
   ]
  },
  {
   "cell_type": "code",
   "execution_count": 3,
   "metadata": {},
   "outputs": [],
   "source": [
    "fraud_cases = pd.read_csv(\"fraud_cases.csv\")\n",
    "CH_train = pd.read_csv(\"FRISS_ClaimHistory_training.csv\")\n",
    "CH_test = pd.read_csv(\"FRISS_ClaimHistory_test.csv\")"
   ]
  },
  {
   "cell_type": "markdown",
   "metadata": {},
   "source": [
    "### Initial data cleaning\n",
    "Drop columns with only one value"
   ]
  },
  {
   "cell_type": "code",
   "execution_count": 4,
   "metadata": {},
   "outputs": [
    {
     "name": "stdout",
     "output_type": "stream",
     "text": [
      "dropped useless columns: ['sys_sector', 'sys_label', 'sys_process', 'sys_product', 'sys_dataspecification_version', 'sys_currency_code']\n"
     ]
    }
   ],
   "source": [
    "drop_cols = []\n",
    "for column in CH_train.columns:\n",
    "  if len(CH_train[column].value_counts()) == len(CH_test[column].value_counts()) == 1:\n",
    "    drop_cols.append(column)\n",
    "    \n",
    "CH_train = CH_train.drop(columns=drop_cols)\n",
    "CH_test = CH_test.drop(columns=drop_cols)\n",
    "print(f\"dropped useless columns: {drop_cols}\")"
   ]
  },
  {
   "cell_type": "markdown",
   "metadata": {},
   "source": [
    "Convert claim ID format in ClaimHistory files to format found in fraud cases file"
   ]
  },
  {
   "cell_type": "code",
   "execution_count": 100,
   "metadata": {},
   "outputs": [],
   "source": [
    "CH_train[\"sys_claimid\"] = CH_train[\"sys_claimid\"].map(lambda x: x[4:-3])\n",
    "CH_test[\"sys_claimid\"] = CH_test[\"sys_claimid\"].map(lambda x: x[4:-3])"
   ]
  },
  {
   "cell_type": "markdown",
   "metadata": {},
   "source": [
    "Three fraud cases contain 2 slash-separated claim IDs, however only the first ones map to the ClaimHistory files, so only the first ones are kept."
   ]
  },
  {
   "cell_type": "code",
   "execution_count": 6,
   "metadata": {},
   "outputs": [],
   "source": [
    "fraud_cases[\"ClaimID\"] = fraud_cases[\"ClaimID\"].map(lambda x: x[:9])"
   ]
  },
  {
   "cell_type": "markdown",
   "metadata": {},
   "source": [
    "Merge the trainset with fraud cases using outer join, then using the \"Date_Occurred\" column in the merged df, create fraud feature using the same format found in the testset, then drop useless columns"
   ]
  },
  {
   "cell_type": "code",
   "execution_count": 7,
   "metadata": {},
   "outputs": [],
   "source": [
    "CH_train = pd.merge(CH_train, fraud_cases,\n",
    "               left_on=[\"sys_claimid\", \"claim_date_occurred\"],\n",
    "               right_on=[\"ClaimID\", \"Date_Occurred\"],\n",
    "               how=\"outer\")\n",
    "\n",
    "def date_claimed_to_fraud(date):\n",
    "  return 0.0 if pd.isna(date) else 1.0\n",
    "\n",
    "CH_train[\"sys_fraud\"] = CH_train[\"Date_Occurred\"].map(date_claimed_to_fraud)\n",
    "CH_train = CH_train.drop(columns=[\"ClaimID\", \"Date_Occurred\"])"
   ]
  },
  {
   "cell_type": "code",
   "execution_count": 8,
   "metadata": {},
   "outputs": [
    {
     "name": "stdout",
     "output_type": "stream",
     "text": [
      "Trainset fraud rate:\t 0.77%\n",
      "Testset fraud rate:\t 0.68%\n"
     ]
    }
   ],
   "source": [
    "train_fraud_rate = CH_train[\"sys_fraud\"].value_counts()[1]/len(CH_train)\n",
    "test_fraud_rate = CH_test[\"sys_fraud\"].value_counts()[1]/len(CH_test)\n",
    "\n",
    "print(\"Train set fraud rate:\\t {0:.2}%\".format(train_fraud_rate*100))\n",
    "print(\"Test set fraud rate:\\t {0:.2}%\".format(test_fraud_rate*100))"
   ]
  },
  {
   "cell_type": "markdown",
   "metadata": {},
   "source": [
    "Convert claim data columns to datetime and create time_interval column."
   ]
  },
  {
   "cell_type": "code",
   "execution_count": 10,
   "metadata": {},
   "outputs": [],
   "source": [
    "CH_train[\"claim_date_reported\"] = pd.to_datetime(CH_train[\"claim_date_reported\"].astype(str))\n",
    "CH_train[\"claim_date_occurred\"] = pd.to_datetime(CH_train[\"claim_date_occurred\"].astype(str))\n",
    "\n",
    "CH_test[\"claim_date_reported\"] = pd.to_datetime(CH_test[\"claim_date_reported\"].astype(str))\n",
    "CH_test[\"claim_date_occurred\"] = pd.to_datetime(CH_test[\"claim_date_occurred\"].astype(str))\n",
    "\n",
    "CH_train[\"claim_time_interval\"] = CH_train[\"claim_date_reported\"] - CH_train[\"claim_date_occurred\"] \n",
    "CH_train[\"claim_time_interval\"] = CH_train[\"claim_time_interval\"].map(lambda x: x.days)\n",
    "\n",
    "CH_test[\"claim_time_interval\"] = CH_test[\"claim_date_reported\"] - CH_train[\"claim_date_occurred\"] \n",
    "CH_test[\"claim_time_interval\"] = CH_test[\"claim_time_interval\"].map(lambda x: x.days)"
   ]
  },
  {
   "cell_type": "markdown",
   "metadata": {},
   "source": [
    "In both sets' \"claim_date_reported\" column some future values are present (compared to time of writing) Both sets show a sharp decline of entries after the first months of 2018."
   ]
  },
  {
   "cell_type": "code",
   "execution_count": null,
   "metadata": {},
   "outputs": [],
   "source": [
    "_ = plt.hist(CH_train[\"claim_date_reported\"], bins=50)\n",
    "_ = plt.hist(CH_test[\"claim_date_reported\"], bins=50)"
   ]
  },
  {
   "cell_type": "markdown",
   "metadata": {},
   "source": [
    "Entries containing a reported date after the first half of 2018 are dropped as they could be errors. "
   ]
  },
  {
   "cell_type": "code",
   "execution_count": null,
   "metadata": {},
   "outputs": [],
   "source": [
    "CH_test = CH_test[CH_test[\"claim_date_reported\"]<pd.to_datetime(\"2018-07-01\")]\n",
    "CH_train = CH_train[CH_train[\"claim_date_reported\"]<pd.to_datetime(\"2018-07-01\")]"
   ]
  },
  {
   "cell_type": "markdown",
   "metadata": {},
   "source": [
    "The same behaviour can not be observed in the \"claim_date_occurred\" column"
   ]
  },
  {
   "cell_type": "code",
   "execution_count": null,
   "metadata": {},
   "outputs": [],
   "source": [
    "_ = plt.hist(CH_train[\"claim_date_occurred\"], bins=50)\n",
    "_ = plt.hist(CH_test[\"claim_date_occurred\"], bins=50)"
   ]
  },
  {
   "cell_type": "markdown",
   "metadata": {},
   "source": [
    "### High intervals\n",
    "To find high values of time_interval, first I check some normality tests to determine whether outlier detection can be used"
   ]
  },
  {
   "cell_type": "code",
   "execution_count": 80,
   "metadata": {},
   "outputs": [
    {
     "name": "stdout",
     "output_type": "stream",
     "text": [
      "Shapiro test:\tstat: 2.986e-01\t p: 0.0000e+00\n",
      "K-squared test:\tstat: 1.271e+05\t p: 0.0000e+00\n",
      "X-squared test:\tstat: 1.326e+07\t p: 0.0000e+00\n"
     ]
    },
    {
     "name": "stderr",
     "output_type": "stream",
     "text": [
      "/home/orlando/anaconda3/lib/python3.8/site-packages/scipy/stats/morestats.py:1681: UserWarning: p-value may not be accurate for N > 5000.\n",
      "  warnings.warn(\"p-value may not be accurate for N > 5000.\")\n"
     ]
    },
    {
     "data": {
      "image/png": "[encoded data removed]",
      "text/plain": [
       "<Figure size 432x288 with 1 Axes>"
      ]
     },
     "metadata": {
      "needs_background": "light"
     },
     "output_type": "display_data"
    }
   ],
   "source": [
    "from scipy.stats import shapiro, normaltest, chisquare\n",
    "\n",
    "data = CH_train[\"claim_time_interval\"]\n",
    "\n",
    "_ = plt.hist(data, bins=50)\n",
    "\n",
    "stat, p = shapiro(data)\n",
    "print(\"Shapiro test:\\tstat: {0:.3e}\\t p: {1:.4e}\".format(stat, p))\n",
    "\n",
    "stat, p = normaltest(data)\n",
    "print(\"K-squared test:\\tstat: {0:.3e}\\t p: {1:.4e}\".format(stat, p))\n",
    "\n",
    "stat, p = chisquare(data)\n",
    "print(\"X-squared test:\\tstat: {0:.3e}\\t p: {1:.4e}\".format(stat, p))"
   ]
  },
  {
   "cell_type": "markdown",
   "metadata": {},
   "source": [
    "Data is non-normal, considering the sharp decline in time_intervals in the above graph, excluding the top x% values could be one solution for identifying high time_intervals.First I check whether there is a relationship between higher time intervals and fraud rate\n"
   ]
  },
  {
   "cell_type": "code",
   "execution_count": 99,
   "metadata": {},
   "outputs": [
    {
     "data": {
      "image/png": "[encoded data removed]",
      "text/plain": [
       "<Figure size 432x288 with 1 Axes>"
      ]
     },
     "metadata": {
      "needs_background": "light"
     },
     "output_type": "display_data"
    }
   ],
   "source": [
    "l = list(CH_train[\"claim_time_interval\"].sort_values())\n",
    "\n",
    "percentage_range = np.arange(0, 1, 0.01)\n",
    "fraud_rates = []\n",
    "\n",
    "\n",
    "for i in percentage_range:\n",
    "  ti = l[int(len(l)*i)] # Interval at the i-th percentile\n",
    "  pi = np.mean(CH_train[CH_train[\"claim_time_interval\"]>=ti][\"sys_fraud\"]) # Fraud rate for values above ti\n",
    "  fraud_rates.append(pi)\n",
    "  \n",
    "_ = plt.plot(percentage_range, fraud_rates)"
   ]
  },
  {
   "cell_type": "markdown",
   "metadata": {},
   "source": [
    "While higher time-intervals seem to correlate with higher fraud rates, there does not seem to be a pivot point at which the rate starts increasing quickly. Based on this, a value between 85% and 90% could be a good spot to start calling intervals \"high\" without overusing the indicator. For the sake of explainability, I would propose a value of 30 or 31 days, as that falls between the two above mentioned percentages."
   ]
  },
  {
   "cell_type": "code",
   "execution_count": 104,
   "metadata": {},
   "outputs": [
    {
     "name": "stdout",
     "output_type": "stream",
     "text": [
      "15% of claims have an interval higher of 26, with a fraud rate of 0.0121\n",
      "10% of claims have an interval higher of 40, with a fraud rate of 0.0130\n"
     ]
    }
   ],
   "source": [
    "i85 = l[int(len(l)*0.85)]\n",
    "i90 = l[int(len(l)*0.90)]\n",
    "\n",
    "p85 = np.mean(CH_train[CH_train[\"claim_time_interval\"]>=i85][\"sys_fraud\"])\n",
    "p90 = np.mean(CH_train[CH_train[\"claim_time_interval\"]>=i90][\"sys_fraud\"])\n",
    "\n",
    "print(\"15% of claims have an interval higher of {0}, with a fraud rate of {1:.4f}\".format(i85, p85))\n",
    "print(\"10% of claims have an interval higher of {0}, with a fraud rate of {1:.4f}\".format(i90, p90))"
   ]
  },
  {
   "cell_type": "markdown",
   "metadata": {},
   "source": [
    "### Further data cleaning\n",
    "Having initially removed trivially useless features, additional columns need to be removed.\n",
    "To avoid biasing the model, the policy holder's gender is removed from the data.\n",
    "The policy holder's first and last name are likewise removed, both to avoid biasing the model against certain ethnicities, and because the granularity of the data renders the information very hard to use. "
   ]
  },
  {
   "cell_type": "code",
   "execution_count": null,
   "metadata": {},
   "outputs": [],
   "source": [
    "# TODO: check feasibility and usefulness of counting policy holder's claim amount"
   ]
  },
  {
   "cell_type": "code",
   "execution_count": 107,
   "metadata": {},
   "outputs": [],
   "source": [
    "drop_cols = [\"ph_gender\", \"ph_name\", \"ph_firstname\"]\n",
    "CH_train = CH_train.drop(columns = drop_cols)\n",
    "CH_test = CH_test.drop(columns = drop_cols)"
   ]
  },
  {
   "cell_type": "code",
   "execution_count": 123,
   "metadata": {},
   "outputs": [
    {
     "data": {
      "text/plain": [
       "Collision    48855\n",
       "Other        15618\n",
       "Weather       7675\n",
       "Animals       4654\n",
       "Theft         3016\n",
       "NaN              2\n",
       "Name: claim_causetype, dtype: int64"
      ]
     },
     "execution_count": 123,
     "metadata": {},
     "output_type": "execute_result"
    }
   ],
   "source": [
    "CH_train['claim_causetype'].value_counts(dropna=False)"
   ]
  },
  {
   "cell_type": "code",
   "execution_count": 110,
   "metadata": {},
   "outputs": [
    {
     "data": {
      "text/plain": [
       "Index(['sys_claimid', 'claim_amount_claimed_total', 'claim_causetype',\n",
       "       'claim_date_occurred', 'claim_date_reported',\n",
       "       'claim_location_urban_area', 'object_make', 'object_year_construction',\n",
       "       'policy_fleet_flag', 'policy_insured_amount', 'policy_profitability',\n",
       "       'sys_fraud', 'claim_time_interval'],\n",
       "      dtype='object')"
      ]
     },
     "execution_count": 110,
     "metadata": {},
     "output_type": "execute_result"
    }
   ],
   "source": [
    "CH_train.columns"
   ]
  },
  {
   "cell_type": "code",
   "execution_count": null,
   "metadata": {},
   "outputs": [],
   "source": [
    "# All the tested values show a significantly higher rate of fraud, showing that a high-time-interval\n",
    "# indicator can be expected to be a useful indicator.\n",
    "# As for the final choice maybe somewhere between 10 and 5 %"
   ]
  },
  {
   "cell_type": "code",
   "execution_count": 65,
   "metadata": {},
   "outputs": [],
   "source": [
    "non_fraud_intervals = CH_train[CH_train[\"sys_fraud\"]==0][\"claim_time_interval\"]\n",
    "fraud_intervals = CH_train[CH_train[\"sys_fraud\"]==1][\"claim_time_interval\"]"
   ]
  },
  {
   "cell_type": "code",
   "execution_count": 66,
   "metadata": {},
   "outputs": [
    {
     "data": {
      "text/plain": [
       "18.305931518610173"
      ]
     },
     "execution_count": 66,
     "metadata": {},
     "output_type": "execute_result"
    }
   ],
   "source": [
    "np.mean(non_fraud_intervals)"
   ]
  },
  {
   "cell_type": "code",
   "execution_count": 67,
   "metadata": {},
   "outputs": [
    {
     "data": {
      "text/plain": [
       "25.73051948051948"
      ]
     },
     "execution_count": 67,
     "metadata": {},
     "output_type": "execute_result"
    }
   ],
   "source": [
    "np.mean(fraud_intervals)"
   ]
  },
  {
   "cell_type": "code",
   "execution_count": 69,
   "metadata": {},
   "outputs": [
    {
     "data": {
      "text/html": [
       "<div>\n",
       "<style scoped>\n",
       "    .dataframe tbody tr th:only-of-type {\n",
       "        vertical-align: middle;\n",
       "    }\n",
       "\n",
       "    .dataframe tbody tr th {\n",
       "        vertical-align: top;\n",
       "    }\n",
       "\n",
       "    .dataframe thead th {\n",
       "        text-align: right;\n",
       "    }\n",
       "</style>\n",
       "<table border=\"1\" class=\"dataframe\">\n",
       "  <thead>\n",
       "    <tr style=\"text-align: right;\">\n",
       "      <th></th>\n",
       "      <th>sys_claimid</th>\n",
       "      <th>claim_amount_claimed_total</th>\n",
       "      <th>claim_causetype</th>\n",
       "      <th>claim_date_occurred</th>\n",
       "      <th>claim_date_reported</th>\n",
       "      <th>claim_location_urban_area</th>\n",
       "      <th>object_make</th>\n",
       "      <th>object_year_construction</th>\n",
       "      <th>ph_firstname</th>\n",
       "      <th>ph_gender</th>\n",
       "      <th>ph_name</th>\n",
       "      <th>policy_fleet_flag</th>\n",
       "      <th>policy_insured_amount</th>\n",
       "      <th>policy_profitability</th>\n",
       "      <th>sys_fraud</th>\n",
       "      <th>claim_time_interval</th>\n",
       "    </tr>\n",
       "  </thead>\n",
       "  <tbody>\n",
       "    <tr>\n",
       "      <th>17</th>\n",
       "      <td>290928269</td>\n",
       "      <td>1819.0</td>\n",
       "      <td>Weather</td>\n",
       "      <td>2012-11-03</td>\n",
       "      <td>2013-07-25</td>\n",
       "      <td>0</td>\n",
       "      <td>OPEL</td>\n",
       "      <td>2010.0</td>\n",
       "      <td>Franciszek</td>\n",
       "      <td>M</td>\n",
       "      <td>Zaragoza-Madrid</td>\n",
       "      <td>0</td>\n",
       "      <td>58930.0</td>\n",
       "      <td>Very high</td>\n",
       "      <td>0.0</td>\n",
       "      <td>264</td>\n",
       "    </tr>\n",
       "    <tr>\n",
       "      <th>28</th>\n",
       "      <td>197149263</td>\n",
       "      <td>14121.0</td>\n",
       "      <td>Other</td>\n",
       "      <td>2014-11-06</td>\n",
       "      <td>2015-11-01</td>\n",
       "      <td>1</td>\n",
       "      <td>OTHER</td>\n",
       "      <td>2009.0</td>\n",
       "      <td>John</td>\n",
       "      <td>L</td>\n",
       "      <td>Zhu</td>\n",
       "      <td>0</td>\n",
       "      <td>NaN</td>\n",
       "      <td>Very low</td>\n",
       "      <td>0.0</td>\n",
       "      <td>360</td>\n",
       "    </tr>\n",
       "    <tr>\n",
       "      <th>83</th>\n",
       "      <td>530306230</td>\n",
       "      <td>4085.0</td>\n",
       "      <td>Collision</td>\n",
       "      <td>2014-02-07</td>\n",
       "      <td>2014-10-17</td>\n",
       "      <td>1</td>\n",
       "      <td>BMW</td>\n",
       "      <td>2009.0</td>\n",
       "      <td>Joseph</td>\n",
       "      <td>M</td>\n",
       "      <td>Ward</td>\n",
       "      <td>0</td>\n",
       "      <td>106853.0</td>\n",
       "      <td>Very low</td>\n",
       "      <td>0.0</td>\n",
       "      <td>252</td>\n",
       "    </tr>\n",
       "    <tr>\n",
       "      <th>114</th>\n",
       "      <td>641387095</td>\n",
       "      <td>1492.0</td>\n",
       "      <td>Collision</td>\n",
       "      <td>2013-04-29</td>\n",
       "      <td>2014-07-09</td>\n",
       "      <td>0</td>\n",
       "      <td>CITROEN</td>\n",
       "      <td>2013.0</td>\n",
       "      <td>Zufar</td>\n",
       "      <td>M</td>\n",
       "      <td>el-Javed</td>\n",
       "      <td>0</td>\n",
       "      <td>74816.0</td>\n",
       "      <td>Very low</td>\n",
       "      <td>0.0</td>\n",
       "      <td>436</td>\n",
       "    </tr>\n",
       "    <tr>\n",
       "      <th>119</th>\n",
       "      <td>772028442</td>\n",
       "      <td>139.0</td>\n",
       "      <td>Collision</td>\n",
       "      <td>2015-04-18</td>\n",
       "      <td>2015-12-26</td>\n",
       "      <td>1</td>\n",
       "      <td>AUDI</td>\n",
       "      <td>2014.0</td>\n",
       "      <td>Chance</td>\n",
       "      <td>M</td>\n",
       "      <td>Harding</td>\n",
       "      <td>0</td>\n",
       "      <td>93040.0</td>\n",
       "      <td>Low</td>\n",
       "      <td>0.0</td>\n",
       "      <td>252</td>\n",
       "    </tr>\n",
       "    <tr>\n",
       "      <th>...</th>\n",
       "      <td>...</td>\n",
       "      <td>...</td>\n",
       "      <td>...</td>\n",
       "      <td>...</td>\n",
       "      <td>...</td>\n",
       "      <td>...</td>\n",
       "      <td>...</td>\n",
       "      <td>...</td>\n",
       "      <td>...</td>\n",
       "      <td>...</td>\n",
       "      <td>...</td>\n",
       "      <td>...</td>\n",
       "      <td>...</td>\n",
       "      <td>...</td>\n",
       "      <td>...</td>\n",
       "      <td>...</td>\n",
       "    </tr>\n",
       "    <tr>\n",
       "      <th>78609</th>\n",
       "      <td>720091786</td>\n",
       "      <td>534.0</td>\n",
       "      <td>Collision</td>\n",
       "      <td>2012-08-20</td>\n",
       "      <td>2014-07-15</td>\n",
       "      <td>0</td>\n",
       "      <td>VOLKSWAGEN</td>\n",
       "      <td>2007.0</td>\n",
       "      <td>Raamiz</td>\n",
       "      <td>M</td>\n",
       "      <td>al-Salameh</td>\n",
       "      <td>0</td>\n",
       "      <td>NaN</td>\n",
       "      <td>Very high</td>\n",
       "      <td>0.0</td>\n",
       "      <td>694</td>\n",
       "    </tr>\n",
       "    <tr>\n",
       "      <th>78699</th>\n",
       "      <td>989549362</td>\n",
       "      <td>426.0</td>\n",
       "      <td>Collision</td>\n",
       "      <td>2015-05-12</td>\n",
       "      <td>2016-02-25</td>\n",
       "      <td>0</td>\n",
       "      <td>OTHER</td>\n",
       "      <td>2014.0</td>\n",
       "      <td>Salwa</td>\n",
       "      <td>F</td>\n",
       "      <td>el-Saab</td>\n",
       "      <td>0</td>\n",
       "      <td>NaN</td>\n",
       "      <td>Low</td>\n",
       "      <td>0.0</td>\n",
       "      <td>289</td>\n",
       "    </tr>\n",
       "    <tr>\n",
       "      <th>79162</th>\n",
       "      <td>108819398</td>\n",
       "      <td>6974.0</td>\n",
       "      <td>Theft</td>\n",
       "      <td>2013-07-28</td>\n",
       "      <td>2014-05-30</td>\n",
       "      <td>1</td>\n",
       "      <td>OTHER</td>\n",
       "      <td>2001.0</td>\n",
       "      <td>Cydnee</td>\n",
       "      <td>F</td>\n",
       "      <td>Johnson</td>\n",
       "      <td>0</td>\n",
       "      <td>44085.0</td>\n",
       "      <td>Neutral</td>\n",
       "      <td>0.0</td>\n",
       "      <td>306</td>\n",
       "    </tr>\n",
       "    <tr>\n",
       "      <th>79547</th>\n",
       "      <td>476011700</td>\n",
       "      <td>120.0</td>\n",
       "      <td>Collision</td>\n",
       "      <td>2015-01-24</td>\n",
       "      <td>2015-12-10</td>\n",
       "      <td>1</td>\n",
       "      <td>BMW</td>\n",
       "      <td>2007.0</td>\n",
       "      <td>Sara</td>\n",
       "      <td>L</td>\n",
       "      <td>Manegdeg</td>\n",
       "      <td>0</td>\n",
       "      <td>NaN</td>\n",
       "      <td>High</td>\n",
       "      <td>0.0</td>\n",
       "      <td>320</td>\n",
       "    </tr>\n",
       "    <tr>\n",
       "      <th>79743</th>\n",
       "      <td>293212875</td>\n",
       "      <td>8413.0</td>\n",
       "      <td>Weather</td>\n",
       "      <td>2016-07-26</td>\n",
       "      <td>2017-04-24</td>\n",
       "      <td>1</td>\n",
       "      <td>CITROEN</td>\n",
       "      <td>2010.0</td>\n",
       "      <td>Tanaree</td>\n",
       "      <td>L</td>\n",
       "      <td>Mark</td>\n",
       "      <td>0</td>\n",
       "      <td>50504.0</td>\n",
       "      <td>Very high</td>\n",
       "      <td>0.0</td>\n",
       "      <td>272</td>\n",
       "    </tr>\n",
       "  </tbody>\n",
       "</table>\n",
       "<p>759 rows × 16 columns</p>\n",
       "</div>"
      ],
      "text/plain": [
       "      sys_claimid  claim_amount_claimed_total claim_causetype  \\\n",
       "17      290928269                      1819.0         Weather   \n",
       "28      197149263                     14121.0           Other   \n",
       "83      530306230                      4085.0       Collision   \n",
       "114     641387095                      1492.0       Collision   \n",
       "119     772028442                       139.0       Collision   \n",
       "...           ...                         ...             ...   \n",
       "78609   720091786                       534.0       Collision   \n",
       "78699   989549362                       426.0       Collision   \n",
       "79162   108819398                      6974.0           Theft   \n",
       "79547   476011700                       120.0       Collision   \n",
       "79743   293212875                      8413.0         Weather   \n",
       "\n",
       "      claim_date_occurred claim_date_reported  claim_location_urban_area  \\\n",
       "17             2012-11-03          2013-07-25                          0   \n",
       "28             2014-11-06          2015-11-01                          1   \n",
       "83             2014-02-07          2014-10-17                          1   \n",
       "114            2013-04-29          2014-07-09                          0   \n",
       "119            2015-04-18          2015-12-26                          1   \n",
       "...                   ...                 ...                        ...   \n",
       "78609          2012-08-20          2014-07-15                          0   \n",
       "78699          2015-05-12          2016-02-25                          0   \n",
       "79162          2013-07-28          2014-05-30                          1   \n",
       "79547          2015-01-24          2015-12-10                          1   \n",
       "79743          2016-07-26          2017-04-24                          1   \n",
       "\n",
       "      object_make  object_year_construction ph_firstname ph_gender  \\\n",
       "17           OPEL                    2010.0   Franciszek         M   \n",
       "28          OTHER                    2009.0         John         L   \n",
       "83            BMW                    2009.0       Joseph         M   \n",
       "114       CITROEN                    2013.0        Zufar         M   \n",
       "119          AUDI                    2014.0       Chance         M   \n",
       "...           ...                       ...          ...       ...   \n",
       "78609  VOLKSWAGEN                    2007.0       Raamiz         M   \n",
       "78699       OTHER                    2014.0        Salwa         F   \n",
       "79162       OTHER                    2001.0       Cydnee         F   \n",
       "79547         BMW                    2007.0         Sara         L   \n",
       "79743     CITROEN                    2010.0      Tanaree         L   \n",
       "\n",
       "               ph_name  policy_fleet_flag  policy_insured_amount  \\\n",
       "17     Zaragoza-Madrid                  0                58930.0   \n",
       "28                 Zhu                  0                    NaN   \n",
       "83                Ward                  0               106853.0   \n",
       "114           el-Javed                  0                74816.0   \n",
       "119            Harding                  0                93040.0   \n",
       "...                ...                ...                    ...   \n",
       "78609       al-Salameh                  0                    NaN   \n",
       "78699          el-Saab                  0                    NaN   \n",
       "79162          Johnson                  0                44085.0   \n",
       "79547         Manegdeg                  0                    NaN   \n",
       "79743             Mark                  0                50504.0   \n",
       "\n",
       "      policy_profitability  sys_fraud  claim_time_interval  \n",
       "17               Very high        0.0                  264  \n",
       "28                Very low        0.0                  360  \n",
       "83                Very low        0.0                  252  \n",
       "114               Very low        0.0                  436  \n",
       "119                    Low        0.0                  252  \n",
       "...                    ...        ...                  ...  \n",
       "78609            Very high        0.0                  694  \n",
       "78699                  Low        0.0                  289  \n",
       "79162              Neutral        0.0                  306  \n",
       "79547                 High        0.0                  320  \n",
       "79743            Very high        0.0                  272  \n",
       "\n",
       "[759 rows x 16 columns]"
      ]
     },
     "execution_count": 69,
     "metadata": {},
     "output_type": "execute_result"
    }
   ],
   "source": [
    "CH_train[CH_train[\"claim_time_interval\"]>250]"
   ]
  },
  {
   "cell_type": "code",
   "execution_count": 62,
   "metadata": {},
   "outputs": [],
   "source": []
  },
  {
   "cell_type": "code",
   "execution_count": 63,
   "metadata": {},
   "outputs": [
    {
     "data": {
      "text/html": [
       "<div>\n",
       "<style scoped>\n",
       "    .dataframe tbody tr th:only-of-type {\n",
       "        vertical-align: middle;\n",
       "    }\n",
       "\n",
       "    .dataframe tbody tr th {\n",
       "        vertical-align: top;\n",
       "    }\n",
       "\n",
       "    .dataframe thead th {\n",
       "        text-align: right;\n",
       "    }\n",
       "</style>\n",
       "<table border=\"1\" class=\"dataframe\">\n",
       "  <thead>\n",
       "    <tr style=\"text-align: right;\">\n",
       "      <th></th>\n",
       "      <th>sys_claimid</th>\n",
       "      <th>claim_amount_claimed_total</th>\n",
       "      <th>claim_causetype</th>\n",
       "      <th>claim_date_occurred</th>\n",
       "      <th>claim_date_reported</th>\n",
       "      <th>claim_location_urban_area</th>\n",
       "      <th>object_make</th>\n",
       "      <th>object_year_construction</th>\n",
       "      <th>ph_firstname</th>\n",
       "      <th>ph_gender</th>\n",
       "      <th>ph_name</th>\n",
       "      <th>policy_fleet_flag</th>\n",
       "      <th>policy_insured_amount</th>\n",
       "      <th>policy_profitability</th>\n",
       "      <th>sys_fraud</th>\n",
       "      <th>claim_time_interval</th>\n",
       "    </tr>\n",
       "  </thead>\n",
       "  <tbody>\n",
       "    <tr>\n",
       "      <th>0</th>\n",
       "      <td>338957796</td>\n",
       "      <td>2433.0</td>\n",
       "      <td>Collision</td>\n",
       "      <td>2012-10-22</td>\n",
       "      <td>2012-11-27</td>\n",
       "      <td>1</td>\n",
       "      <td>VOLKSWAGEN</td>\n",
       "      <td>2008.0</td>\n",
       "      <td>Teresita</td>\n",
       "      <td>F</td>\n",
       "      <td>Sanchez</td>\n",
       "      <td>0</td>\n",
       "      <td>74949.0</td>\n",
       "      <td>Low</td>\n",
       "      <td>0.0</td>\n",
       "      <td>36</td>\n",
       "    </tr>\n",
       "    <tr>\n",
       "      <th>1</th>\n",
       "      <td>434911509</td>\n",
       "      <td>3791.0</td>\n",
       "      <td>Collision</td>\n",
       "      <td>2014-06-12</td>\n",
       "      <td>2014-06-18</td>\n",
       "      <td>1</td>\n",
       "      <td>CITROEN</td>\n",
       "      <td>2003.0</td>\n",
       "      <td>Charanaka</td>\n",
       "      <td>M</td>\n",
       "      <td>Yim</td>\n",
       "      <td>0</td>\n",
       "      <td>100648.0</td>\n",
       "      <td>Very low</td>\n",
       "      <td>0.0</td>\n",
       "      <td>6</td>\n",
       "    </tr>\n",
       "    <tr>\n",
       "      <th>2</th>\n",
       "      <td>615568027</td>\n",
       "      <td>452.0</td>\n",
       "      <td>Collision</td>\n",
       "      <td>2013-05-06</td>\n",
       "      <td>2013-09-23</td>\n",
       "      <td>1</td>\n",
       "      <td>RENAULT</td>\n",
       "      <td>2001.0</td>\n",
       "      <td>Wisaam</td>\n",
       "      <td>L</td>\n",
       "      <td>el-Kalil</td>\n",
       "      <td>0</td>\n",
       "      <td>NaN</td>\n",
       "      <td>Low</td>\n",
       "      <td>0.0</td>\n",
       "      <td>140</td>\n",
       "    </tr>\n",
       "    <tr>\n",
       "      <th>3</th>\n",
       "      <td>917387010</td>\n",
       "      <td>555.0</td>\n",
       "      <td>Collision</td>\n",
       "      <td>2017-11-12</td>\n",
       "      <td>2017-12-06</td>\n",
       "      <td>1</td>\n",
       "      <td>RENAULT</td>\n",
       "      <td>2017.0</td>\n",
       "      <td>Dillon</td>\n",
       "      <td>M</td>\n",
       "      <td>Hilfiker</td>\n",
       "      <td>0</td>\n",
       "      <td>121081.0</td>\n",
       "      <td>High</td>\n",
       "      <td>0.0</td>\n",
       "      <td>24</td>\n",
       "    </tr>\n",
       "    <tr>\n",
       "      <th>4</th>\n",
       "      <td>281513737</td>\n",
       "      <td>382.0</td>\n",
       "      <td>Collision</td>\n",
       "      <td>2015-10-21</td>\n",
       "      <td>2015-12-02</td>\n",
       "      <td>1</td>\n",
       "      <td>BMW</td>\n",
       "      <td>2011.0</td>\n",
       "      <td>Carmen</td>\n",
       "      <td>F</td>\n",
       "      <td>Lovelace</td>\n",
       "      <td>0</td>\n",
       "      <td>94538.0</td>\n",
       "      <td>Very high</td>\n",
       "      <td>0.0</td>\n",
       "      <td>42</td>\n",
       "    </tr>\n",
       "    <tr>\n",
       "      <th>...</th>\n",
       "      <td>...</td>\n",
       "      <td>...</td>\n",
       "      <td>...</td>\n",
       "      <td>...</td>\n",
       "      <td>...</td>\n",
       "      <td>...</td>\n",
       "      <td>...</td>\n",
       "      <td>...</td>\n",
       "      <td>...</td>\n",
       "      <td>...</td>\n",
       "      <td>...</td>\n",
       "      <td>...</td>\n",
       "      <td>...</td>\n",
       "      <td>...</td>\n",
       "      <td>...</td>\n",
       "      <td>...</td>\n",
       "    </tr>\n",
       "    <tr>\n",
       "      <th>79995</th>\n",
       "      <td>660834996</td>\n",
       "      <td>2570.0</td>\n",
       "      <td>Collision</td>\n",
       "      <td>2013-04-30</td>\n",
       "      <td>2013-05-14</td>\n",
       "      <td>1</td>\n",
       "      <td>VOLKSWAGEN</td>\n",
       "      <td>2011.0</td>\n",
       "      <td>Marjaana</td>\n",
       "      <td>F</td>\n",
       "      <td>el-Popal</td>\n",
       "      <td>0</td>\n",
       "      <td>NaN</td>\n",
       "      <td>High</td>\n",
       "      <td>0.0</td>\n",
       "      <td>14</td>\n",
       "    </tr>\n",
       "    <tr>\n",
       "      <th>79996</th>\n",
       "      <td>825024899</td>\n",
       "      <td>4184.0</td>\n",
       "      <td>Collision</td>\n",
       "      <td>2014-10-28</td>\n",
       "      <td>2014-11-08</td>\n",
       "      <td>1</td>\n",
       "      <td>VOLKSWAGEN</td>\n",
       "      <td>2016.0</td>\n",
       "      <td>Laura</td>\n",
       "      <td>L</td>\n",
       "      <td>Mendez</td>\n",
       "      <td>0</td>\n",
       "      <td>52457.0</td>\n",
       "      <td>Low</td>\n",
       "      <td>0.0</td>\n",
       "      <td>11</td>\n",
       "    </tr>\n",
       "    <tr>\n",
       "      <th>79997</th>\n",
       "      <td>591101349</td>\n",
       "      <td>35338.0</td>\n",
       "      <td>Other</td>\n",
       "      <td>2013-11-28</td>\n",
       "      <td>2013-12-20</td>\n",
       "      <td>0</td>\n",
       "      <td>BMW</td>\n",
       "      <td>2013.0</td>\n",
       "      <td>Muna</td>\n",
       "      <td>F</td>\n",
       "      <td>Turner</td>\n",
       "      <td>0</td>\n",
       "      <td>42827.0</td>\n",
       "      <td>High</td>\n",
       "      <td>0.0</td>\n",
       "      <td>22</td>\n",
       "    </tr>\n",
       "    <tr>\n",
       "      <th>79998</th>\n",
       "      <td>790242664</td>\n",
       "      <td>40.0</td>\n",
       "      <td>Collision</td>\n",
       "      <td>2016-04-01</td>\n",
       "      <td>2016-04-01</td>\n",
       "      <td>1</td>\n",
       "      <td>OTHER</td>\n",
       "      <td>2010.0</td>\n",
       "      <td>Eli</td>\n",
       "      <td>M</td>\n",
       "      <td>Meraz</td>\n",
       "      <td>0</td>\n",
       "      <td>55022.0</td>\n",
       "      <td>Low</td>\n",
       "      <td>0.0</td>\n",
       "      <td>0</td>\n",
       "    </tr>\n",
       "    <tr>\n",
       "      <th>79999</th>\n",
       "      <td>815745885</td>\n",
       "      <td>946.0</td>\n",
       "      <td>Weather</td>\n",
       "      <td>2017-10-09</td>\n",
       "      <td>2017-12-26</td>\n",
       "      <td>1</td>\n",
       "      <td>VOLKSWAGEN</td>\n",
       "      <td>1999.0</td>\n",
       "      <td>Humaira</td>\n",
       "      <td>F</td>\n",
       "      <td>el-Jabbour</td>\n",
       "      <td>1</td>\n",
       "      <td>NaN</td>\n",
       "      <td>Neutral</td>\n",
       "      <td>0.0</td>\n",
       "      <td>78</td>\n",
       "    </tr>\n",
       "  </tbody>\n",
       "</table>\n",
       "<p>79820 rows × 16 columns</p>\n",
       "</div>"
      ],
      "text/plain": [
       "      sys_claimid  claim_amount_claimed_total claim_causetype  \\\n",
       "0       338957796                      2433.0       Collision   \n",
       "1       434911509                      3791.0       Collision   \n",
       "2       615568027                       452.0       Collision   \n",
       "3       917387010                       555.0       Collision   \n",
       "4       281513737                       382.0       Collision   \n",
       "...           ...                         ...             ...   \n",
       "79995   660834996                      2570.0       Collision   \n",
       "79996   825024899                      4184.0       Collision   \n",
       "79997   591101349                     35338.0           Other   \n",
       "79998   790242664                        40.0       Collision   \n",
       "79999   815745885                       946.0         Weather   \n",
       "\n",
       "      claim_date_occurred claim_date_reported  claim_location_urban_area  \\\n",
       "0              2012-10-22          2012-11-27                          1   \n",
       "1              2014-06-12          2014-06-18                          1   \n",
       "2              2013-05-06          2013-09-23                          1   \n",
       "3              2017-11-12          2017-12-06                          1   \n",
       "4              2015-10-21          2015-12-02                          1   \n",
       "...                   ...                 ...                        ...   \n",
       "79995          2013-04-30          2013-05-14                          1   \n",
       "79996          2014-10-28          2014-11-08                          1   \n",
       "79997          2013-11-28          2013-12-20                          0   \n",
       "79998          2016-04-01          2016-04-01                          1   \n",
       "79999          2017-10-09          2017-12-26                          1   \n",
       "\n",
       "      object_make  object_year_construction ph_firstname ph_gender  \\\n",
       "0      VOLKSWAGEN                    2008.0     Teresita         F   \n",
       "1         CITROEN                    2003.0    Charanaka         M   \n",
       "2         RENAULT                    2001.0       Wisaam         L   \n",
       "3         RENAULT                    2017.0       Dillon         M   \n",
       "4             BMW                    2011.0       Carmen         F   \n",
       "...           ...                       ...          ...       ...   \n",
       "79995  VOLKSWAGEN                    2011.0     Marjaana         F   \n",
       "79996  VOLKSWAGEN                    2016.0        Laura         L   \n",
       "79997         BMW                    2013.0         Muna         F   \n",
       "79998       OTHER                    2010.0          Eli         M   \n",
       "79999  VOLKSWAGEN                    1999.0      Humaira         F   \n",
       "\n",
       "          ph_name  policy_fleet_flag  policy_insured_amount  \\\n",
       "0         Sanchez                  0                74949.0   \n",
       "1             Yim                  0               100648.0   \n",
       "2        el-Kalil                  0                    NaN   \n",
       "3        Hilfiker                  0               121081.0   \n",
       "4        Lovelace                  0                94538.0   \n",
       "...           ...                ...                    ...   \n",
       "79995    el-Popal                  0                    NaN   \n",
       "79996      Mendez                  0                52457.0   \n",
       "79997      Turner                  0                42827.0   \n",
       "79998       Meraz                  0                55022.0   \n",
       "79999  el-Jabbour                  1                    NaN   \n",
       "\n",
       "      policy_profitability  sys_fraud  claim_time_interval  \n",
       "0                      Low        0.0                   36  \n",
       "1                 Very low        0.0                    6  \n",
       "2                      Low        0.0                  140  \n",
       "3                     High        0.0                   24  \n",
       "4                Very high        0.0                   42  \n",
       "...                    ...        ...                  ...  \n",
       "79995                 High        0.0                   14  \n",
       "79996                  Low        0.0                   11  \n",
       "79997                 High        0.0                   22  \n",
       "79998                  Low        0.0                    0  \n",
       "79999              Neutral        0.0                   78  \n",
       "\n",
       "[79820 rows x 16 columns]"
      ]
     },
     "execution_count": 63,
     "metadata": {},
     "output_type": "execute_result"
    }
   ],
   "source": []
  }
 ],
 "metadata": {
  "kernelspec": {
   "display_name": "Python 3",
   "language": "python",
   "name": "python3"
  },
  "language_info": {
   "codemirror_mode": {
    "name": "ipython",
    "version": 3
   },
   "file_extension": ".py",
   "mimetype": "text/x-python",
   "name": "python",
   "nbconvert_exporter": "python",
   "pygments_lexer": "ipython3",
   "version": "3.8.5"
  }
 },
 "nbformat": 4,
 "nbformat_minor": 4
}
