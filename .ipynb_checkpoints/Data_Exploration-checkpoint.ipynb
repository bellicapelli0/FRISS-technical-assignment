{
 "cells": [
  {
   "cell_type": "code",
   "execution_count": 1,
   "metadata": {},
   "outputs": [],
   "source": [
    "import pandas as pd\n",
    "from datetime import datetime\n",
    "import numpy as np\n",
    "\n",
    "import matplotlib.pyplot as plt"
   ]
  },
  {
   "cell_type": "code",
   "execution_count": 2,
   "metadata": {},
   "outputs": [],
   "source": [
    "fraud_cases = pd.read_csv(\"data/fraud_cases.csv\")\n",
    "CH_train = pd.read_csv(\"data/FRISS_ClaimHistory_training.csv\")\n",
    "CH_test = pd.read_csv(\"data/FRISS_ClaimHistory_test.csv\")"
   ]
  },
  {
   "cell_type": "markdown",
   "metadata": {},
   "source": [
    "### Initial data cleaning\n",
    "Drop columns with only one value"
   ]
  },
  {
   "cell_type": "code",
   "execution_count": 3,
   "metadata": {},
   "outputs": [
    {
     "name": "stdout",
     "output_type": "stream",
     "text": [
      "dropped useless columns: ['sys_sector', 'sys_label', 'sys_process', 'sys_product', 'sys_dataspecification_version', 'sys_currency_code']\n"
     ]
    }
   ],
   "source": [
    "drop_cols = []\n",
    "for column in CH_train.columns:\n",
    "  if len(CH_train[column].value_counts()) == len(CH_test[column].value_counts()) == 1:\n",
    "    drop_cols.append(column)\n",
    "    \n",
    "CH_train = CH_train.drop(columns=drop_cols)\n",
    "CH_test = CH_test.drop(columns=drop_cols)\n",
    "print(f\"dropped useless columns: {drop_cols}\")"
   ]
  },
  {
   "cell_type": "markdown",
   "metadata": {},
   "source": [
    "Convert claim ID format in ClaimHistory files to format found in fraud cases file"
   ]
  },
  {
   "cell_type": "code",
   "execution_count": 4,
   "metadata": {},
   "outputs": [],
   "source": [
    "CH_train[\"sys_claimid\"] = CH_train[\"sys_claimid\"].map(lambda x: x[4:-3])\n",
    "CH_test[\"sys_claimid\"] = CH_test[\"sys_claimid\"].map(lambda x: x[4:-3])"
   ]
  },
  {
   "cell_type": "markdown",
   "metadata": {},
   "source": [
    "Three fraud cases contain 2 slash-separated claim IDs, however only the first ones map to the ClaimHistory files, so only the first ones are kept."
   ]
  },
  {
   "cell_type": "code",
   "execution_count": 5,
   "metadata": {},
   "outputs": [],
   "source": [
    "fraud_cases[\"ClaimID\"] = fraud_cases[\"ClaimID\"].map(lambda x: x[:9])"
   ]
  },
  {
   "cell_type": "markdown",
   "metadata": {},
   "source": [
    "Merge the trainset with fraud cases using outer join, then using the \"Date_Occurred\" column in the merged df, create fraud feature using the same format found in the testset, then drop useless columns"
   ]
  },
  {
   "cell_type": "code",
   "execution_count": 6,
   "metadata": {},
   "outputs": [],
   "source": [
    "CH_train = pd.merge(CH_train, fraud_cases,\n",
    "               left_on=[\"sys_claimid\", \"claim_date_occurred\"],\n",
    "               right_on=[\"ClaimID\", \"Date_Occurred\"],\n",
    "               how=\"outer\")\n",
    "\n",
    "def date_claimed_to_fraud(date):\n",
    "  return 0.0 if pd.isna(date) else 1.0\n",
    "\n",
    "CH_train[\"sys_fraud\"] = CH_train[\"Date_Occurred\"].map(date_claimed_to_fraud)\n",
    "CH_train = CH_train.drop(columns=[\"ClaimID\", \"Date_Occurred\"])"
   ]
  },
  {
   "cell_type": "code",
   "execution_count": 7,
   "metadata": {},
   "outputs": [
    {
     "name": "stdout",
     "output_type": "stream",
     "text": [
      "Train set fraud rate:\t 0.77%\n",
      "Test set fraud rate:\t 0.68%\n"
     ]
    }
   ],
   "source": [
    "train_fraud_rate = CH_train[\"sys_fraud\"].value_counts()[1]/len(CH_train)\n",
    "test_fraud_rate = CH_test[\"sys_fraud\"].value_counts()[1]/len(CH_test)\n",
    "\n",
    "print(\"Train set fraud rate:\\t {0:.2}%\".format(train_fraud_rate*100))\n",
    "print(\"Test set fraud rate:\\t {0:.2}%\".format(test_fraud_rate*100))"
   ]
  },
  {
   "cell_type": "markdown",
   "metadata": {},
   "source": [
    "Convert claim data columns to datetime and create time_interval column."
   ]
  },
  {
   "cell_type": "code",
   "execution_count": 8,
   "metadata": {},
   "outputs": [],
   "source": [
    "CH_train[\"claim_date_reported\"] = pd.to_datetime(CH_train[\"claim_date_reported\"].astype(str))\n",
    "CH_train[\"claim_date_occurred\"] = pd.to_datetime(CH_train[\"claim_date_occurred\"].astype(str))\n",
    "\n",
    "CH_test[\"claim_date_reported\"] = pd.to_datetime(CH_test[\"claim_date_reported\"].astype(str))\n",
    "CH_test[\"claim_date_occurred\"] = pd.to_datetime(CH_test[\"claim_date_occurred\"].astype(str))\n",
    "\n",
    "CH_train[\"claim_time_interval\"] = CH_train[\"claim_date_reported\"] - CH_train[\"claim_date_occurred\"] \n",
    "CH_train[\"claim_time_interval\"] = CH_train[\"claim_time_interval\"].map(lambda x: x.days)\n",
    "\n",
    "CH_test[\"claim_time_interval\"] = CH_test[\"claim_date_reported\"] - CH_train[\"claim_date_occurred\"] \n",
    "CH_test[\"claim_time_interval\"] = CH_test[\"claim_time_interval\"].map(lambda x: x.days)"
   ]
  },
  {
   "cell_type": "markdown",
   "metadata": {},
   "source": [
    "In both sets' \"claim_date_reported\" column some future values are present (compared to time of writing) Both sets show a sharp decline of entries after the first months of 2018."
   ]
  },
  {
   "cell_type": "code",
   "execution_count": 9,
   "metadata": {},
   "outputs": [
    {
     "data": {
      "image/png": "[encoded data removed]",
      "text/plain": [
       "<Figure size 432x288 with 1 Axes>"
      ]
     },
     "metadata": {
      "needs_background": "light"
     },
     "output_type": "display_data"
    }
   ],
   "source": [
    "_ = plt.hist(CH_train[\"claim_date_reported\"], bins=50)\n",
    "_ = plt.hist(CH_test[\"claim_date_reported\"], bins=50)"
   ]
  },
  {
   "cell_type": "markdown",
   "metadata": {},
   "source": [
    "Entries containing a reported date after the first half of 2018 are dropped as they could be errors. "
   ]
  },
  {
   "cell_type": "code",
   "execution_count": 10,
   "metadata": {},
   "outputs": [],
   "source": [
    "CH_test = CH_test[CH_test[\"claim_date_reported\"]<pd.to_datetime(\"2018-07-01\")]\n",
    "CH_train = CH_train[CH_train[\"claim_date_reported\"]<pd.to_datetime(\"2018-07-01\")]"
   ]
  },
  {
   "cell_type": "markdown",
   "metadata": {},
   "source": [
    "The same behaviour can not be observed in the \"claim_date_occurred\" column"
   ]
  },
  {
   "cell_type": "code",
   "execution_count": 11,
   "metadata": {},
   "outputs": [
    {
     "data": {
      "image/png": "[encoded data removed]",
      "text/plain": [
       "<Figure size 432x288 with 1 Axes>"
      ]
     },
     "metadata": {
      "needs_background": "light"
     },
     "output_type": "display_data"
    }
   ],
   "source": [
    "_ = plt.hist(CH_train[\"claim_date_occurred\"], bins=50)\n",
    "_ = plt.hist(CH_test[\"claim_date_occurred\"], bins=50)"
   ]
  },
  {
   "cell_type": "markdown",
   "metadata": {},
   "source": [
    "### High intervals\n",
    "To find high values of time_interval, first I check some normality tests to determine whether outlier detection can be used"
   ]
  },
  {
   "cell_type": "code",
   "execution_count": 12,
   "metadata": {},
   "outputs": [
    {
     "name": "stdout",
     "output_type": "stream",
     "text": [
      "Shapiro test:\tstat: 2.986e-01\t p: 0.0000e+00\n",
      "K-squared test:\tstat: 1.271e+05\t p: 0.0000e+00\n",
      "X-squared test:\tstat: 1.326e+07\t p: 0.0000e+00\n"
     ]
    },
    {
     "name": "stderr",
     "output_type": "stream",
     "text": [
      "/home/orlando/anaconda3/lib/python3.8/site-packages/scipy/stats/morestats.py:1681: UserWarning: p-value may not be accurate for N > 5000.\n",
      "  warnings.warn(\"p-value may not be accurate for N > 5000.\")\n"
     ]
    },
    {
     "data": {
      "image/png": "[encoded data removed]",
      "text/plain": [
       "<Figure size 432x288 with 1 Axes>"
      ]
     },
     "metadata": {
      "needs_background": "light"
     },
     "output_type": "display_data"
    }
   ],
   "source": [
    "from scipy.stats import shapiro, normaltest, chisquare\n",
    "\n",
    "data = CH_train[\"claim_time_interval\"]\n",
    "\n",
    "_ = plt.hist(data, bins=50)\n",
    "\n",
    "stat, p = shapiro(data)\n",
    "print(\"Shapiro test:\\tstat: {0:.3e}\\t p: {1:.4e}\".format(stat, p))\n",
    "\n",
    "stat, p = normaltest(data)\n",
    "print(\"K-squared test:\\tstat: {0:.3e}\\t p: {1:.4e}\".format(stat, p))\n",
    "\n",
    "stat, p = chisquare(data)\n",
    "print(\"X-squared test:\\tstat: {0:.3e}\\t p: {1:.4e}\".format(stat, p))"
   ]
  },
  {
   "cell_type": "markdown",
   "metadata": {},
   "source": [
    "Data is non-normal, considering the sharp decline in time_intervals in the above graph, excluding the top x% values could be one solution for identifying high time_intervals.First I check whether there is a relationship between higher time intervals and fraud rate\n"
   ]
  },
  {
   "cell_type": "code",
   "execution_count": 13,
   "metadata": {},
   "outputs": [
    {
     "data": {
      "image/png": "[encoded data removed]",
      "text/plain": [
       "<Figure size 432x288 with 1 Axes>"
      ]
     },
     "metadata": {
      "needs_background": "light"
     },
     "output_type": "display_data"
    }
   ],
   "source": [
    "l = list(CH_train[\"claim_time_interval\"].sort_values())\n",
    "\n",
    "percentage_range = np.arange(0, 1, 0.01)\n",
    "fraud_rates = []\n",
    "\n",
    "\n",
    "for i in percentage_range:\n",
    "  ti = l[int(len(l)*i)] # Interval at the i-th percentile\n",
    "  pi = np.mean(CH_train[CH_train[\"claim_time_interval\"]>=ti][\"sys_fraud\"]) # Fraud rate for values above ti\n",
    "  fraud_rates.append(pi)\n",
    "  \n",
    "_ = plt.plot(percentage_range, fraud_rates)"
   ]
  },
  {
   "cell_type": "markdown",
   "metadata": {},
   "source": [
    "While higher time-intervals seem to correlate with higher fraud rates, there does not seem to be a pivot point at which the rate starts increasing quickly. Based on this, a value between 85% and 90% could be a good spot to start calling intervals \"high\" without overusing the indicator. For the sake of explainability, I would propose a value of 30 or 31 days, as that falls between the two above mentioned percentages."
   ]
  },
  {
   "cell_type": "code",
   "execution_count": 14,
   "metadata": {},
   "outputs": [
    {
     "name": "stdout",
     "output_type": "stream",
     "text": [
      "15% of claims have an interval higher of 26, with a fraud rate of 0.0121\n",
      "10% of claims have an interval higher of 40, with a fraud rate of 0.0130\n"
     ]
    }
   ],
   "source": [
    "i85 = l[int(len(l)*0.85)]\n",
    "i90 = l[int(len(l)*0.90)]\n",
    "\n",
    "p85 = np.mean(CH_train[CH_train[\"claim_time_interval\"]>=i85][\"sys_fraud\"])\n",
    "p90 = np.mean(CH_train[CH_train[\"claim_time_interval\"]>=i90][\"sys_fraud\"])\n",
    "\n",
    "print(\"15% of claims have an interval higher of {0}, with a fraud rate of {1:.4f}\".format(i85, p85))\n",
    "print(\"10% of claims have an interval higher of {0}, with a fraud rate of {1:.4f}\".format(i90, p90))"
   ]
  },
  {
   "cell_type": "markdown",
   "metadata": {},
   "source": [
    "### Further data cleaning\n",
    "Having initially removed trivially useless features, additional columns need to be removed.\n",
    "To avoid biasing the model, the policy holder's gender is removed from the data.\n",
    "The policy holder's first and last name are likewise removed, both to avoid biasing the model against certain ethnicities, and because the granularity of the data renders the information very hard to use. "
   ]
  },
  {
   "cell_type": "code",
   "execution_count": 15,
   "metadata": {},
   "outputs": [],
   "source": [
    "# TODO: check feasibility and usefulness of counting policy holder's claim amount"
   ]
  },
  {
   "cell_type": "code",
   "execution_count": 16,
   "metadata": {},
   "outputs": [],
   "source": [
    "drop_cols = [\"ph_gender\", \"ph_name\", \"ph_firstname\"]\n",
    "CH_train = CH_train.drop(columns = drop_cols)\n",
    "CH_test = CH_test.drop(columns = drop_cols)"
   ]
  },
  {
   "cell_type": "markdown",
   "metadata": {},
   "source": [
    "2 columns contain NaN values: 'claim_causetype' and 'policy_insured_amount', the first has a low number of missing values, so I drop the entries missing a causetype value."
   ]
  },
  {
   "cell_type": "code",
   "execution_count": 17,
   "metadata": {},
   "outputs": [],
   "source": [
    "CH_train = CH_train.dropna(subset=['claim_causetype'])\n",
    "CH_test = CH_test.dropna(subset=['claim_causetype'])"
   ]
  },
  {
   "cell_type": "markdown",
   "metadata": {},
   "source": [
    "However, doing the same for 'policy_insured_amount' would significantly reduce the number of entries as there are many missing values. For now I substitute the NaNs the mean of the column, and I will later evaluate whether removing the column altogether is advisable."
   ]
  },
  {
   "cell_type": "code",
   "execution_count": 18,
   "metadata": {},
   "outputs": [],
   "source": [
    "CH_train['policy_insured_amount'] = CH_train['policy_insured_amount'].fillna(\n",
    "                                                  CH_train['policy_insured_amount'].mean())\n",
    "\n",
    "CH_test['policy_insured_amount'] = CH_test['policy_insured_amount'].fillna(\n",
    "                                                  CH_test['policy_insured_amount'].mean())"
   ]
  },
  {
   "cell_type": "code",
   "execution_count": 19,
   "metadata": {},
   "outputs": [
    {
     "data": {
      "image/png": "[encoded data removed]",
      "text/plain": [
       "<Figure size 432x288 with 1 Axes>"
      ]
     },
     "metadata": {
      "needs_background": "light"
     },
     "output_type": "display_data"
    }
   ],
   "source": [
    "_ = plt.hist(CH_train['policy_insured_amount'], bins = 50)"
   ]
  },
  {
   "cell_type": "code",
   "execution_count": 20,
   "metadata": {},
   "outputs": [
    {
     "data": {
      "text/plain": [
       "Index(['sys_claimid', 'claim_amount_claimed_total', 'claim_causetype',\n",
       "       'claim_date_occurred', 'claim_date_reported',\n",
       "       'claim_location_urban_area', 'object_make', 'object_year_construction',\n",
       "       'policy_fleet_flag', 'policy_insured_amount', 'policy_profitability',\n",
       "       'sys_fraud', 'claim_time_interval'],\n",
       "      dtype='object')"
      ]
     },
     "execution_count": 20,
     "metadata": {},
     "output_type": "execute_result"
    }
   ],
   "source": [
    "CH_train.columns"
   ]
  },
  {
   "cell_type": "code",
   "execution_count": 21,
   "metadata": {},
   "outputs": [
    {
     "data": {
      "text/html": [
       "<div>\n",
       "<style scoped>\n",
       "    .dataframe tbody tr th:only-of-type {\n",
       "        vertical-align: middle;\n",
       "    }\n",
       "\n",
       "    .dataframe tbody tr th {\n",
       "        vertical-align: top;\n",
       "    }\n",
       "\n",
       "    .dataframe thead th {\n",
       "        text-align: right;\n",
       "    }\n",
       "</style>\n",
       "<table border=\"1\" class=\"dataframe\">\n",
       "  <thead>\n",
       "    <tr style=\"text-align: right;\">\n",
       "      <th></th>\n",
       "      <th>sys_claimid</th>\n",
       "      <th>claim_amount_claimed_total</th>\n",
       "      <th>claim_causetype</th>\n",
       "      <th>claim_date_occurred</th>\n",
       "      <th>claim_date_reported</th>\n",
       "      <th>claim_location_urban_area</th>\n",
       "      <th>object_make</th>\n",
       "      <th>object_year_construction</th>\n",
       "      <th>policy_fleet_flag</th>\n",
       "      <th>policy_insured_amount</th>\n",
       "      <th>policy_profitability</th>\n",
       "      <th>sys_fraud</th>\n",
       "      <th>claim_time_interval</th>\n",
       "    </tr>\n",
       "  </thead>\n",
       "  <tbody>\n",
       "    <tr>\n",
       "      <th>0</th>\n",
       "      <td>338957796</td>\n",
       "      <td>2433.0</td>\n",
       "      <td>Collision</td>\n",
       "      <td>2012-10-22</td>\n",
       "      <td>2012-11-27</td>\n",
       "      <td>1</td>\n",
       "      <td>VOLKSWAGEN</td>\n",
       "      <td>2008.0</td>\n",
       "      <td>0</td>\n",
       "      <td>74949.000000</td>\n",
       "      <td>Low</td>\n",
       "      <td>0.0</td>\n",
       "      <td>36</td>\n",
       "    </tr>\n",
       "    <tr>\n",
       "      <th>1</th>\n",
       "      <td>434911509</td>\n",
       "      <td>3791.0</td>\n",
       "      <td>Collision</td>\n",
       "      <td>2014-06-12</td>\n",
       "      <td>2014-06-18</td>\n",
       "      <td>1</td>\n",
       "      <td>CITROEN</td>\n",
       "      <td>2003.0</td>\n",
       "      <td>0</td>\n",
       "      <td>100648.000000</td>\n",
       "      <td>Very low</td>\n",
       "      <td>0.0</td>\n",
       "      <td>6</td>\n",
       "    </tr>\n",
       "    <tr>\n",
       "      <th>2</th>\n",
       "      <td>615568027</td>\n",
       "      <td>452.0</td>\n",
       "      <td>Collision</td>\n",
       "      <td>2013-05-06</td>\n",
       "      <td>2013-09-23</td>\n",
       "      <td>1</td>\n",
       "      <td>RENAULT</td>\n",
       "      <td>2001.0</td>\n",
       "      <td>0</td>\n",
       "      <td>59950.850994</td>\n",
       "      <td>Low</td>\n",
       "      <td>0.0</td>\n",
       "      <td>140</td>\n",
       "    </tr>\n",
       "    <tr>\n",
       "      <th>3</th>\n",
       "      <td>917387010</td>\n",
       "      <td>555.0</td>\n",
       "      <td>Collision</td>\n",
       "      <td>2017-11-12</td>\n",
       "      <td>2017-12-06</td>\n",
       "      <td>1</td>\n",
       "      <td>RENAULT</td>\n",
       "      <td>2017.0</td>\n",
       "      <td>0</td>\n",
       "      <td>121081.000000</td>\n",
       "      <td>High</td>\n",
       "      <td>0.0</td>\n",
       "      <td>24</td>\n",
       "    </tr>\n",
       "    <tr>\n",
       "      <th>4</th>\n",
       "      <td>281513737</td>\n",
       "      <td>382.0</td>\n",
       "      <td>Collision</td>\n",
       "      <td>2015-10-21</td>\n",
       "      <td>2015-12-02</td>\n",
       "      <td>1</td>\n",
       "      <td>BMW</td>\n",
       "      <td>2011.0</td>\n",
       "      <td>0</td>\n",
       "      <td>94538.000000</td>\n",
       "      <td>Very high</td>\n",
       "      <td>0.0</td>\n",
       "      <td>42</td>\n",
       "    </tr>\n",
       "  </tbody>\n",
       "</table>\n",
       "</div>"
      ],
      "text/plain": [
       "  sys_claimid  claim_amount_claimed_total claim_causetype claim_date_occurred  \\\n",
       "0   338957796                      2433.0       Collision          2012-10-22   \n",
       "1   434911509                      3791.0       Collision          2014-06-12   \n",
       "2   615568027                       452.0       Collision          2013-05-06   \n",
       "3   917387010                       555.0       Collision          2017-11-12   \n",
       "4   281513737                       382.0       Collision          2015-10-21   \n",
       "\n",
       "  claim_date_reported  claim_location_urban_area object_make  \\\n",
       "0          2012-11-27                          1  VOLKSWAGEN   \n",
       "1          2014-06-18                          1     CITROEN   \n",
       "2          2013-09-23                          1     RENAULT   \n",
       "3          2017-12-06                          1     RENAULT   \n",
       "4          2015-12-02                          1         BMW   \n",
       "\n",
       "   object_year_construction  policy_fleet_flag  policy_insured_amount  \\\n",
       "0                    2008.0                  0           74949.000000   \n",
       "1                    2003.0                  0          100648.000000   \n",
       "2                    2001.0                  0           59950.850994   \n",
       "3                    2017.0                  0          121081.000000   \n",
       "4                    2011.0                  0           94538.000000   \n",
       "\n",
       "  policy_profitability  sys_fraud  claim_time_interval  \n",
       "0                  Low        0.0                   36  \n",
       "1             Very low        0.0                    6  \n",
       "2                  Low        0.0                  140  \n",
       "3                 High        0.0                   24  \n",
       "4            Very high        0.0                   42  "
      ]
     },
     "execution_count": 21,
     "metadata": {},
     "output_type": "execute_result"
    }
   ],
   "source": [
    "CH_train.head()"
   ]
  },
  {
   "cell_type": "markdown",
   "metadata": {},
   "source": [
    "I substitute categorical values with dummy columns"
   ]
  },
  {
   "cell_type": "code",
   "execution_count": 22,
   "metadata": {},
   "outputs": [],
   "source": [
    "CH_train = pd.concat([CH_train.drop('claim_causetype', axis=1),\n",
    "                pd.get_dummies(CH_train['claim_causetype'], prefix='cause')], axis=1)\n",
    "CH_train = pd.concat([CH_train.drop('object_make', axis=1),\n",
    "                pd.get_dummies(CH_train['object_make'], prefix='make')], axis=1)\n",
    "\n",
    "CH_test = pd.concat([CH_test.drop('claim_causetype', axis=1),\n",
    "                pd.get_dummies(CH_test['claim_causetype'], prefix='cause')], axis=1)\n",
    "CH_test = pd.concat([CH_test.drop('object_make', axis=1),\n",
    "                pd.get_dummies(CH_test['object_make'], prefix='make')], axis=1)"
   ]
  },
  {
   "cell_type": "code",
   "execution_count": 26,
   "metadata": {},
   "outputs": [
    {
     "data": {
      "text/plain": [
       "Very low     17478\n",
       "Low          16768\n",
       "Neutral      15836\n",
       "High         15260\n",
       "Very high    14476\n",
       "Name: policy_profitability, dtype: int64"
      ]
     },
     "execution_count": 26,
     "metadata": {},
     "output_type": "execute_result"
    }
   ],
   "source": [
    "CH_train['policy_profitability'].value_counts()"
   ]
  },
  {
   "cell_type": "markdown",
   "metadata": {},
   "source": [
    "For profitability, instead of dummy variables I change each value with a number from 0 to 4"
   ]
  },
  {
   "cell_type": "code",
   "execution_count": 31,
   "metadata": {},
   "outputs": [],
   "source": [
    "profitability_map = {'Very low': 0,\n",
    "                     'Low': 1,\n",
    "                     'Neutral': 2,\n",
    "                     'High': 3,\n",
    "                     'Very high': 4}\n",
    "CH_train['policy_profitability'] = CH_train['policy_profitability'].map(profitability_map)\n",
    "CH_test['policy_profitability'] = CH_test['policy_profitability'].map(profitability_map)"
   ]
  },
  {
   "cell_type": "markdown",
   "metadata": {},
   "source": [
    "I decompose date features into year-month-day"
   ]
  },
  {
   "cell_type": "code",
   "execution_count": 46,
   "metadata": {},
   "outputs": [],
   "source": [
    "CH_train['occurred_year'] = CH_train[\"claim_date_occurred\"].dt.year\n",
    "CH_train['occurred_month'] = CH_train[\"claim_date_occurred\"].dt.month\n",
    "CH_train['occurred_day'] = CH_train[\"claim_date_occurred\"].dt.day\n",
    "\n",
    "CH_train['reported_year'] = CH_train[\"claim_date_reported\"].dt.year\n",
    "CH_train['reported_month'] = CH_train[\"claim_date_reported\"].dt.month\n",
    "CH_train['reported_day'] = CH_train[\"claim_date_reported\"].dt.day\n",
    "\n",
    "CH_test['occurred_year'] = CH_test[\"claim_date_occurred\"].dt.year\n",
    "CH_test['occurred_month'] = CH_test[\"claim_date_occurred\"].dt.month\n",
    "CH_test['occurred_day'] = CH_test[\"claim_date_occurred\"].dt.day\n",
    "\n",
    "CH_test['reported_year'] = CH_test[\"claim_date_reported\"].dt.year\n",
    "CH_test['reported_month'] = CH_test[\"claim_date_reported\"].dt.month\n",
    "CH_test['reported_day'] = CH_test[\"claim_date_reported\"].dt.day"
   ]
  },
  {
   "cell_type": "code",
   "execution_count": 48,
   "metadata": {},
   "outputs": [],
   "source": [
    "CH_train = CH_train.drop(columns=[\"claim_date_occurred\", \"claim_date_reported\"])\n",
    "CH_test = CH_test.drop(columns=[\"claim_date_occurred\", \"claim_date_reported\"])"
   ]
  },
  {
   "cell_type": "code",
   "execution_count": 57,
   "metadata": {},
   "outputs": [],
   "source": [
    "import preprocessing"
   ]
  },
  {
   "cell_type": "code",
   "execution_count": 58,
   "metadata": {},
   "outputs": [
    {
     "ename": "TypeError",
     "evalue": "preprocess() missing 3 required positional arguments: 'train_file', 'test_file', and 'fraud_file'",
     "output_type": "error",
     "traceback": [
      "\u001b[0;31m---------------------------------------------------------------------------\u001b[0m",
      "\u001b[0;31mTypeError\u001b[0m                                 Traceback (most recent call last)",
      "\u001b[0;32m<ipython-input-58-d37b1ae24229>\u001b[0m in \u001b[0;36m<module>\u001b[0;34m\u001b[0m\n\u001b[0;32m----> 1\u001b[0;31m \u001b[0mpreprocessing\u001b[0m\u001b[0;34m.\u001b[0m\u001b[0mpreprocess\u001b[0m\u001b[0;34m(\u001b[0m\u001b[0;34m)\u001b[0m\u001b[0;34m\u001b[0m\u001b[0;34m\u001b[0m\u001b[0m\n\u001b[0m",
      "\u001b[0;31mTypeError\u001b[0m: preprocess() missing 3 required positional arguments: 'train_file', 'test_file', and 'fraud_file'"
     ]
    }
   ],
   "source": [
    "preprocessing.preprocess()"
   ]
  }
 ],
 "metadata": {
  "kernelspec": {
   "display_name": "Python 3",
   "language": "python",
   "name": "python3"
  },
  "language_info": {
   "codemirror_mode": {
    "name": "ipython",
    "version": 3
   },
   "file_extension": ".py",
   "mimetype": "text/x-python",
   "name": "python",
   "nbconvert_exporter": "python",
   "pygments_lexer": "ipython3",
   "version": "3.8.5"
  }
 },
 "nbformat": 4,
 "nbformat_minor": 4
}
