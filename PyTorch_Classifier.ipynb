{
 "cells": [
  {
   "cell_type": "markdown",
   "metadata": {},
   "source": [
    "### Simple Neural Network Classifier with various inbalanced-learn over and under-sampling methods\n",
    "\n",
    "Declarations for the ClaimDataset, ClaimClassifier and training functions can be found in claim_classifier.py "
   ]
  },
  {
   "cell_type": "code",
   "execution_count": 1,
   "metadata": {
    "id": "Y-vS2n3wd3c8"
   },
   "outputs": [],
   "source": [
    "from claim_classifier import *\n",
    "from preprocessing import preprocess\n",
    "\n",
    "import pandas as pd\n",
    "import torch\n",
    "from torch.utils.data import DataLoader\n",
    "\n",
    "from sklearn.metrics import confusion_matrix, ConfusionMatrixDisplay\n",
    "from sklearn.model_selection import train_test_split\n",
    "from sklearn.utils.class_weight import compute_class_weight"
   ]
  },
  {
   "cell_type": "code",
   "execution_count": 2,
   "metadata": {
    "colab": {
     "base_uri": "https://localhost:8080/"
    },
    "id": "CU8y_I3aj6oA",
    "outputId": "9d3132b1-2c7d-481c-cef7-74bb4a119ee8"
   },
   "outputs": [
    {
     "name": "stdout",
     "output_type": "stream",
     "text": [
      "Finished preprocessing.\n",
      "Dropped 182 Train entries.\n",
      "Dropped 43 Test entries.\n",
      "Preprocessing took 1.87 seconds\n"
     ]
    }
   ],
   "source": [
    "train_file = \"data/FRISS_ClaimHistory_training.csv\"\n",
    "test_file = \"data/FRISS_ClaimHistory_test.csv\"\n",
    "fraud_file = \"data/fraud_cases.csv\"\n",
    "\n",
    "train, test = preprocess(train_file, test_file, fraud_file)"
   ]
  },
  {
   "cell_type": "code",
   "execution_count": 3,
   "metadata": {},
   "outputs": [],
   "source": [
    "drop_cols = ['occurred_year', 'occurred_month',\n",
    "       'occurred_day', 'reported_year', 'reported_month', 'reported_day']\n",
    "\n",
    "train = train.drop(columns=drop_cols)\n",
    "test = test.drop(columns=drop_cols)"
   ]
  },
  {
   "cell_type": "code",
   "execution_count": 4,
   "metadata": {},
   "outputs": [
    {
     "data": {
      "text/plain": [
       "Index(['sys_claimid', 'claim_amount_claimed_total',\n",
       "       'claim_location_urban_area', 'object_year_construction',\n",
       "       'policy_fleet_flag', 'sys_fraud', 'claim_time_interval',\n",
       "       'cause_Animals', 'cause_Collision', 'cause_Other', 'cause_Theft',\n",
       "       'cause_Weather', 'make_AUDI', 'make_BMW', 'make_CITROEN', 'make_OPEL',\n",
       "       'make_OTHER', 'make_RENAULT', 'make_VOLKSWAGEN', 'profitability_High',\n",
       "       'profitability_Low', 'profitability_Neutral', 'profitability_Very high',\n",
       "       'profitability_Very low', 'prev_claims'],\n",
       "      dtype='object')"
      ]
     },
     "execution_count": 4,
     "metadata": {},
     "output_type": "execute_result"
    }
   ],
   "source": [
    "train.columns"
   ]
  },
  {
   "cell_type": "code",
   "execution_count": 5,
   "metadata": {},
   "outputs": [],
   "source": [
    "# # Basic Undersampling\n",
    "\n",
    "# fraud_entries = train[train[\"sys_fraud\"] == 1]\n",
    "# non_fraud_entries = train[train[\"sys_fraud\"] == 0].sample(len(fraud_entries))\n",
    "# train = fraud_entries.append(non_fraud_entries).sample(frac=1.0)"
   ]
  },
  {
   "cell_type": "code",
   "execution_count": 6,
   "metadata": {},
   "outputs": [],
   "source": [
    "# # Cluster Undersampling\n",
    "\n",
    "# from imblearn.under_sampling import ClusterCentroids\n",
    "# cc = ClusterCentroids(random_state=0)\n",
    "# train, y = cc.fit_resample(train.drop(columns=[\"sys_fraud\"]), train[\"sys_fraud\"])\n",
    "# train[\"sys_fraud\"] = y\n",
    "# train = train.sample(frac=1.0)"
   ]
  },
  {
   "cell_type": "code",
   "execution_count": 7,
   "metadata": {},
   "outputs": [],
   "source": [
    "# # SMOTE over-sampling\n",
    "\n",
    "# from imblearn.over_sampling import SMOTE\n",
    "# smote = SMOTE()\n",
    "# train, y = smote.fit_resample(train.drop(columns=[\"sys_fraud\"]), train[\"sys_fraud\"])\n",
    "# train[\"sys_fraud\"] = y\n",
    "# train = train.sample(frac=1.0)"
   ]
  },
  {
   "cell_type": "code",
   "execution_count": 8,
   "metadata": {},
   "outputs": [],
   "source": [
    "# # Over and Under sampling\n",
    "\n",
    "# from imblearn.combine import SMOTEENN\n",
    "# smoteenn = SMOTEENN()\n",
    "# train, y = smoteenn.fit_resample(train.drop(columns=[\"sys_fraud\"]), train[\"sys_fraud\"])\n",
    "# train[\"sys_fraud\"] = y\n",
    "# train = train.sample(frac=1.0)"
   ]
  },
  {
   "cell_type": "code",
   "execution_count": 9,
   "metadata": {},
   "outputs": [],
   "source": [
    "# from imblearn.combine import SMOTETomek\n",
    "# smote_tomek = SMOTETomek(random_state=0)\n",
    "# train, y = smote_tomek.fit_resample(train.drop(columns=[\"sys_fraud\"]), train[\"sys_fraud\"])\n",
    "# train[\"sys_fraud\"] = y\n",
    "\n",
    "# train = train.sample(frac=1.0)"
   ]
  },
  {
   "cell_type": "code",
   "execution_count": 10,
   "metadata": {},
   "outputs": [],
   "source": [
    "X_train, X_val, y_train, y_val = train_test_split(train.drop(columns=\"sys_fraud\"),\n",
    "                                                    train[\"sys_fraud\"],\n",
    "                                                    test_size=0.10, random_state=4)\n",
    "\n",
    "X_train[\"sys_fraud\"] = y_train\n",
    "train = X_train\n",
    "\n",
    "X_val[\"sys_fraud\"] = y_val\n",
    "val = X_val"
   ]
  },
  {
   "cell_type": "code",
   "execution_count": 11,
   "metadata": {},
   "outputs": [],
   "source": [
    "# Random Undersampler\n",
    "\n",
    "from imblearn.under_sampling import RandomUnderSampler\n",
    "rus = RandomUnderSampler(random_state=0)\n",
    "train, y = rus.fit_resample(train.drop(columns=[\"sys_fraud\"]), train[\"sys_fraud\"])\n",
    "\n",
    "train[\"sys_fraud\"] = y\n",
    "train = train.sample(frac=1.0)\n",
    "\n",
    "val, y = rus.fit_resample(val.drop(columns=[\"sys_fraud\"]), val[\"sys_fraud\"])\n",
    "\n",
    "val[\"sys_fraud\"] = y\n",
    "val = val.sample(frac=1.0)"
   ]
  },
  {
   "cell_type": "code",
   "execution_count": 12,
   "metadata": {},
   "outputs": [
    {
     "data": {
      "text/plain": [
       "0.0    65\n",
       "1.0    65\n",
       "Name: sys_fraud, dtype: int64"
      ]
     },
     "execution_count": 12,
     "metadata": {},
     "output_type": "execute_result"
    }
   ],
   "source": [
    "val[\"sys_fraud\"].value_counts()"
   ]
  },
  {
   "cell_type": "code",
   "execution_count": 13,
   "metadata": {
    "colab": {
     "base_uri": "https://localhost:8080/",
     "height": 550,
     "referenced_widgets": [
      "3c4ac7838706432a897646a0c6ff3d3c",
      "dc0cefad50fa4c5dacc27eb0825aeec4",
      "3649e6527df54df9a667573c72bba0cf",
      "7d03a1c2196e4878877e2a3f46f41fdd",
      "019e0d0e9f9e4d61a0130c4177b0ce12",
      "114b92da95f14848923fd578be65c199",
      "c64dbfeab4324c64843e5d6e08443079",
      "a1c99e792dab47968bb8c11d5934d18a",
      "a8c168b7bd47447c8353db864f6ab6b9",
      "7e9159f44b6647faa45e44d2e44649d3",
      "010510af8b5543c3b82b7ccf3f00f88a",
      "421f1346dff94d34a433db6b51bc0f57",
      "2f530e09cd8848a7bba6438ee727377a",
      "8e1f5f8aac6d419db453d2d2ea79b770",
      "69de8de9dec34b188dc31462aab76641",
      "5cac96369aae4c1bbe82eb0747506004",
      "6a56e1d8d1684c25afa1f27c211dfa62",
      "02c20145f37b44a4bafd2860d86af902",
      "6b8dbdeff59e4d22a42754cec7594e3c",
      "0177d4058ee144c295ea15d8fac29245",
      "462464079d6748fbb617c2beef7820d7",
      "c5e79af5e03d42f494d826434a4dac05",
      "f3d40a8291794ebcab57d47a09836470",
      "5213ee7ddc6344ec94c506a429e6cf11"
     ]
    },
    "id": "sTlpV0xCBb67",
    "outputId": "f23ca9f5-2bfb-4832-b1e1-7dae8f7a08fe",
    "scrolled": true
   },
   "outputs": [
    {
     "name": "stdout",
     "output_type": "stream",
     "text": [
      "Using: CPU\n",
      "tensor([1.0100, 1.0000])\n",
      "- - T R A I N I N G - -\n",
      "\n",
      "> Epoch 1 of 60\n",
      "└───Batch 550 of 550. time=1.5s.\n",
      "\n",
      "- Training loss: 0.70\n",
      "- Training Epoch took: 1.5s\n",
      "\n",
      "- - V A L I D A T I N G - -\n",
      "\n",
      "- Validation Accuracy: 0.5000\n",
      "- Validation Precision: 0.9846\n",
      "- Validation Recall: 0.5000\n",
      "- Validation F1: 0.6632\n",
      "- Validation AUROC: 0.4807\n",
      "- Validation loss: 0.6949\n",
      "- Validation took: 0.2s\n",
      "\n",
      "Saving model...\n",
      "\n",
      "> Epoch 2 of 60\n",
      "└───Batch 550 of 550. time=1.9s.\n",
      "\n",
      "- Training loss: 0.69\n",
      "- Training Epoch took: 1.9s\n",
      "\n",
      "- - V A L I D A T I N G - -\n",
      "\n",
      "- Validation Accuracy: 0.5077\n",
      "- Validation Precision: 0.8462\n",
      "- Validation Recall: 0.5046\n",
      "- Validation F1: 0.6322\n",
      "- Validation AUROC: 0.5183\n",
      "- Validation loss: 0.6932\n",
      "- Validation took: 0.2s\n",
      "\n",
      "New best Accuracy score, saving...\n",
      "\n",
      "> Epoch 3 of 60\n",
      "└───Batch 550 of 550. time=2.1s.\n",
      "\n",
      "- Training loss: 0.69\n",
      "- Training Epoch took: 2.1s\n",
      "\n",
      "- - V A L I D A T I N G - -\n",
      "\n",
      "- Validation Accuracy: 0.5077\n",
      "- Validation Precision: 0.7692\n",
      "- Validation Recall: 0.5051\n",
      "- Validation F1: 0.6098\n",
      "- Validation AUROC: 0.5612\n",
      "- Validation loss: 0.6912\n",
      "- Validation took: 0.2s\n",
      "\n",
      "> Epoch 4 of 60\n",
      "└───Batch 550 of 550. time=1.5s.\n",
      "\n",
      "- Training loss: 0.69\n",
      "- Training Epoch took: 1.5s\n",
      "\n",
      "- - V A L I D A T I N G - -\n",
      "\n",
      "- Validation Accuracy: 0.5692\n",
      "- Validation Precision: 0.6154\n",
      "- Validation Recall: 0.5634\n",
      "- Validation F1: 0.5882\n",
      "- Validation AUROC: 0.5678\n",
      "- Validation loss: 0.6891\n",
      "- Validation took: 0.2s\n",
      "\n",
      "New best Accuracy score, saving...\n",
      "\n",
      "> Epoch 5 of 60\n",
      "└───Batch 550 of 550. time=1.4s.\n",
      "\n",
      "- Training loss: 0.68\n",
      "- Training Epoch took: 1.4s\n",
      "\n",
      "- - V A L I D A T I N G - -\n",
      "\n",
      "- Validation Accuracy: 0.5692\n",
      "- Validation Precision: 0.6154\n",
      "- Validation Recall: 0.5634\n",
      "- Validation F1: 0.5882\n",
      "- Validation AUROC: 0.5794\n",
      "- Validation loss: 0.6864\n",
      "- Validation took: 0.2s\n",
      "\n",
      "> Epoch 6 of 60\n",
      "└───Batch 550 of 550. time=1.3s.\n",
      "\n",
      "- Training loss: 0.68\n",
      "- Training Epoch took: 1.3s\n",
      "\n",
      "- - V A L I D A T I N G - -\n",
      "\n",
      "- Validation Accuracy: 0.5923\n",
      "- Validation Precision: 0.5692\n",
      "- Validation Recall: 0.5968\n",
      "- Validation F1: 0.5827\n",
      "- Validation AUROC: 0.5893\n",
      "- Validation loss: 0.6830\n",
      "- Validation took: 0.2s\n",
      "\n",
      "New best Accuracy score, saving...\n",
      "\n",
      "> Epoch 7 of 60\n",
      "└───Batch 550 of 550. time=1.3s.\n",
      "\n",
      "- Training loss: 0.68\n",
      "- Training Epoch took: 1.3s\n",
      "\n",
      "- - V A L I D A T I N G - -\n",
      "\n",
      "- Validation Accuracy: 0.6154\n",
      "- Validation Precision: 0.5231\n",
      "- Validation Recall: 0.6415\n",
      "- Validation F1: 0.5763\n",
      "- Validation AUROC: 0.5953\n",
      "- Validation loss: 0.6801\n",
      "- Validation took: 0.2s\n",
      "\n",
      "New best Accuracy score, saving...\n",
      "\n",
      "> Epoch 8 of 60\n",
      "└───Batch 550 of 550. time=1.3s.\n",
      "\n",
      "- Training loss: 0.67\n",
      "- Training Epoch took: 1.3s\n",
      "\n",
      "- - V A L I D A T I N G - -\n",
      "\n",
      "- Validation Accuracy: 0.6077\n",
      "- Validation Precision: 0.5231\n",
      "- Validation Recall: 0.6296\n",
      "- Validation F1: 0.5714\n",
      "- Validation AUROC: 0.6026\n",
      "- Validation loss: 0.6762\n",
      "- Validation took: 0.2s\n",
      "\n",
      "> Epoch 9 of 60\n",
      "└───Batch 550 of 550. time=1.3s.\n",
      "\n",
      "- Training loss: 0.67\n",
      "- Training Epoch took: 1.3s\n",
      "\n",
      "- - V A L I D A T I N G - -\n",
      "\n",
      "- Validation Accuracy: 0.6077\n",
      "- Validation Precision: 0.5231\n",
      "- Validation Recall: 0.6296\n",
      "- Validation F1: 0.5714\n",
      "- Validation AUROC: 0.6064\n",
      "- Validation loss: 0.6724\n",
      "- Validation took: 0.2s\n",
      "\n",
      "> Epoch 10 of 60\n",
      "└───Batch 550 of 550. time=1.3s.\n",
      "\n",
      "- Training loss: 0.67\n",
      "- Training Epoch took: 1.4s\n",
      "\n",
      "- - V A L I D A T I N G - -\n",
      "\n",
      "- Validation Accuracy: 0.6154\n",
      "- Validation Precision: 0.4923\n",
      "- Validation Recall: 0.6531\n",
      "- Validation F1: 0.5614\n",
      "- Validation AUROC: 0.6076\n",
      "- Validation loss: 0.6704\n",
      "- Validation took: 0.2s\n",
      "\n",
      "> Epoch 11 of 60\n",
      "└───Batch 550 of 550. time=1.5s.\n",
      "\n",
      "- Training loss: 0.66\n",
      "- Training Epoch took: 1.5s\n",
      "\n",
      "- - V A L I D A T I N G - -\n",
      "\n",
      "- Validation Accuracy: 0.6154\n",
      "- Validation Precision: 0.5538\n",
      "- Validation Recall: 0.6316\n",
      "- Validation F1: 0.5902\n",
      "- Validation AUROC: 0.6121\n",
      "- Validation loss: 0.6671\n",
      "- Validation took: 0.2s\n",
      "\n",
      "> Epoch 12 of 60\n",
      "└───Batch 550 of 550. time=1.5s.\n",
      "\n",
      "- Training loss: 0.66\n",
      "- Training Epoch took: 1.5s\n",
      "\n",
      "- - V A L I D A T I N G - -\n",
      "\n",
      "- Validation Accuracy: 0.6077\n",
      "- Validation Precision: 0.6154\n",
      "- Validation Recall: 0.6061\n",
      "- Validation F1: 0.6107\n",
      "- Validation AUROC: 0.6208\n",
      "- Validation loss: 0.6645\n",
      "- Validation took: 0.2s\n",
      "\n",
      "> Epoch 13 of 60\n",
      "└───Batch 550 of 550. time=2.1s.\n",
      "\n",
      "- Training loss: 0.66\n",
      "- Training Epoch took: 2.1s\n",
      "\n",
      "- - V A L I D A T I N G - -\n",
      "\n",
      "- Validation Accuracy: 0.6231\n",
      "- Validation Precision: 0.5692\n",
      "- Validation Recall: 0.6379\n",
      "- Validation F1: 0.6016\n",
      "- Validation AUROC: 0.6189\n",
      "- Validation loss: 0.6645\n",
      "- Validation took: 0.3s\n",
      "\n",
      "New best Accuracy score, saving...\n",
      "\n",
      "> Epoch 14 of 60\n",
      "└───Batch 550 of 550. time=1.9s.\n",
      "\n",
      "- Training loss: 0.66\n",
      "- Training Epoch took: 1.9s\n",
      "\n",
      "- - V A L I D A T I N G - -\n",
      "\n",
      "- Validation Accuracy: 0.6154\n",
      "- Validation Precision: 0.5385\n",
      "- Validation Recall: 0.6364\n",
      "- Validation F1: 0.5833\n",
      "- Validation AUROC: 0.6194\n",
      "- Validation loss: 0.6638\n",
      "- Validation took: 0.2s\n",
      "\n",
      "> Epoch 15 of 60\n",
      "└───Batch 550 of 550. time=1.5s.\n",
      "\n",
      "- Training loss: 0.65\n",
      "- Training Epoch took: 1.5s\n",
      "\n",
      "- - V A L I D A T I N G - -\n",
      "\n",
      "- Validation Accuracy: 0.6154\n",
      "- Validation Precision: 0.5385\n",
      "- Validation Recall: 0.6364\n",
      "- Validation F1: 0.5833\n",
      "- Validation AUROC: 0.6175\n",
      "- Validation loss: 0.6648\n",
      "- Validation took: 0.2s\n",
      "\n",
      "> Epoch 16 of 60\n",
      "└───Batch 550 of 550. time=1.5s.\n",
      "\n",
      "- Training loss: 0.65\n",
      "- Training Epoch took: 1.5s\n",
      "\n",
      "- - V A L I D A T I N G - -\n",
      "\n",
      "- Validation Accuracy: 0.6231\n",
      "- Validation Precision: 0.5385\n",
      "- Validation Recall: 0.6481\n",
      "- Validation F1: 0.5882\n",
      "- Validation AUROC: 0.6161\n",
      "- Validation loss: 0.6649\n",
      "- Validation took: 0.2s\n",
      "\n",
      "> Epoch 17 of 60\n",
      "└───Batch 550 of 550. time=1.4s.\n",
      "\n",
      "- Training loss: 0.65\n",
      "- Training Epoch took: 1.4s\n",
      "\n",
      "- - V A L I D A T I N G - -\n",
      "\n",
      "- Validation Accuracy: 0.6077\n",
      "- Validation Precision: 0.5077\n",
      "- Validation Recall: 0.6346\n",
      "- Validation F1: 0.5641\n",
      "- Validation AUROC: 0.6140\n",
      "- Validation loss: 0.6667\n",
      "- Validation took: 0.2s\n",
      "\n",
      "> Epoch 18 of 60\n",
      "└───Batch 550 of 550. time=1.3s.\n",
      "\n",
      "- Training loss: 0.65\n",
      "- Training Epoch took: 1.4s\n",
      "\n",
      "- - V A L I D A T I N G - -\n",
      "\n",
      "- Validation Accuracy: 0.6308\n",
      "- Validation Precision: 0.5538\n",
      "- Validation Recall: 0.6545\n",
      "- Validation F1: 0.6000\n",
      "- Validation AUROC: 0.6064\n",
      "- Validation loss: 0.6678\n",
      "- Validation took: 0.2s\n",
      "\n",
      "New best Accuracy score, saving...\n",
      "\n",
      "> Epoch 19 of 60\n",
      "└───Batch 550 of 550. time=1.4s.\n",
      "\n",
      "- Training loss: 0.65\n",
      "- Training Epoch took: 1.4s\n",
      "\n",
      "- - V A L I D A T I N G - -\n",
      "\n",
      "- Validation Accuracy: 0.6231\n",
      "- Validation Precision: 0.5385\n",
      "- Validation Recall: 0.6481\n",
      "- Validation F1: 0.5882\n",
      "- Validation AUROC: 0.6088\n",
      "- Validation loss: 0.6699\n",
      "- Validation took: 0.2s\n",
      "\n",
      "> Epoch 20 of 60\n",
      "└───Batch 550 of 550. time=1.3s.\n",
      "\n",
      "- Training loss: 0.65\n",
      "- Training Epoch took: 1.4s\n",
      "\n",
      "- - V A L I D A T I N G - -\n",
      "\n",
      "- Validation Accuracy: 0.6154\n",
      "- Validation Precision: 0.5077\n",
      "- Validation Recall: 0.6471\n",
      "- Validation F1: 0.5690\n",
      "- Validation AUROC: 0.6083\n",
      "- Validation loss: 0.6724\n",
      "- Validation took: 0.2s\n",
      "\n",
      "> Epoch 21 of 60\n",
      "└───Batch 550 of 550. time=1.5s.\n",
      "\n",
      "- Training loss: 0.65\n",
      "- Training Epoch took: 1.5s\n",
      "\n",
      "- - V A L I D A T I N G - -\n",
      "\n",
      "- Validation Accuracy: 0.6231\n",
      "- Validation Precision: 0.5385\n",
      "- Validation Recall: 0.6481\n",
      "- Validation F1: 0.5882\n",
      "- Validation AUROC: 0.6076\n",
      "- Validation loss: 0.6750\n",
      "- Validation took: 0.2s\n",
      "\n",
      "> Epoch 22 of 60\n",
      "└───Batch 550 of 550. time=1.4s.\n",
      "\n",
      "- Training loss: 0.65\n",
      "- Training Epoch took: 1.4s\n",
      "\n",
      "- - V A L I D A T I N G - -\n",
      "\n",
      "- Validation Accuracy: 0.6077\n",
      "- Validation Precision: 0.4923\n",
      "- Validation Recall: 0.6400\n",
      "- Validation F1: 0.5565\n",
      "- Validation AUROC: 0.6050\n",
      "- Validation loss: 0.6803\n",
      "- Validation took: 0.2s\n",
      "\n",
      "> Epoch 23 of 60\n",
      "└───Batch 550 of 550. time=1.4s.\n",
      "\n",
      "- Training loss: 0.65\n",
      "- Training Epoch took: 1.4s\n",
      "\n",
      "- - V A L I D A T I N G - -\n",
      "\n",
      "- Validation Accuracy: 0.6077\n",
      "- Validation Precision: 0.4923\n",
      "- Validation Recall: 0.6400\n",
      "- Validation F1: 0.5565\n",
      "- Validation AUROC: 0.6031\n",
      "- Validation loss: 0.6854\n",
      "- Validation took: 0.2s\n",
      "\n",
      "> Epoch 24 of 60\n",
      "└───Batch 550 of 550. time=1.5s.\n",
      "\n",
      "- Training loss: 0.65\n",
      "- Training Epoch took: 1.5s\n",
      "\n",
      "- - V A L I D A T I N G - -\n",
      "\n",
      "- Validation Accuracy: 0.6000\n",
      "- Validation Precision: 0.4769\n",
      "- Validation Recall: 0.6327\n",
      "- Validation F1: 0.5439\n",
      "- Validation AUROC: 0.6000\n",
      "- Validation loss: 0.6897\n",
      "- Validation took: 0.2s\n",
      "\n",
      "> Epoch 25 of 60\n",
      "└───Batch 550 of 550. time=1.4s.\n",
      "\n",
      "- Training loss: 0.65\n",
      "- Training Epoch took: 1.4s\n",
      "\n",
      "- - V A L I D A T I N G - -\n",
      "\n",
      "- Validation Accuracy: 0.6077\n",
      "- Validation Precision: 0.5385\n",
      "- Validation Recall: 0.6250\n",
      "- Validation F1: 0.5785\n",
      "- Validation AUROC: 0.5983\n",
      "- Validation loss: 0.6886\n",
      "- Validation took: 0.2s\n",
      "\n",
      "> Epoch 26 of 60\n"
     ]
    },
    {
     "name": "stdout",
     "output_type": "stream",
     "text": [
      "└───Batch 550 of 550. time=1.4s.\n",
      "\n",
      "- Training loss: 0.65\n",
      "- Training Epoch took: 1.4s\n",
      "\n",
      "- - V A L I D A T I N G - -\n",
      "\n",
      "- Validation Accuracy: 0.5846\n",
      "- Validation Precision: 0.5538\n",
      "- Validation Recall: 0.5902\n",
      "- Validation F1: 0.5714\n",
      "- Validation AUROC: 0.5983\n",
      "- Validation loss: 0.6909\n",
      "- Validation took: 0.2s\n",
      "\n",
      "> Epoch 27 of 60\n",
      "└───Batch 550 of 550. time=1.4s.\n",
      "\n",
      "- Training loss: 0.65\n",
      "- Training Epoch took: 1.4s\n",
      "\n",
      "- - V A L I D A T I N G - -\n",
      "\n",
      "- Validation Accuracy: 0.6077\n",
      "- Validation Precision: 0.5385\n",
      "- Validation Recall: 0.6250\n",
      "- Validation F1: 0.5785\n",
      "- Validation AUROC: 0.5976\n",
      "- Validation loss: 0.6950\n",
      "- Validation took: 0.2s\n",
      "\n",
      "> Epoch 28 of 60\n",
      "└───Batch 550 of 550. time=1.4s.\n",
      "\n",
      "- Training loss: 0.65\n",
      "- Training Epoch took: 1.4s\n",
      "\n",
      "- - V A L I D A T I N G - -\n",
      "\n",
      "- Validation Accuracy: 0.6077\n",
      "- Validation Precision: 0.4923\n",
      "- Validation Recall: 0.6400\n",
      "- Validation F1: 0.5565\n",
      "- Validation AUROC: 0.5946\n",
      "- Validation loss: 0.7040\n",
      "- Validation took: 0.2s\n",
      "\n",
      "Finished Training\n",
      "\n",
      "Best seen Accuracy 0.6308 at epoch 18.\n",
      "Best model saved with filename: 2021-10-05T15:52:18.mdl\n",
      "Loading best model...\n",
      "Done.\n"
     ]
    }
   ],
   "source": [
    "epochs = 60\n",
    "max_patience = 10\n",
    "\n",
    "if torch.cuda.is_available():    \n",
    "  DEVICE = torch.device(\"cuda\")\n",
    "  print('Using:', torch.cuda.get_device_name(0))\n",
    "else:\n",
    "  print('Using: CPU')\n",
    "  DEVICE = torch.device(\"cpu\")\n",
    "\n",
    "torch.manual_seed(1)\n",
    "\n",
    "train_set = ClaimDataset(train)\n",
    "val_set = ClaimDataset(val)\n",
    "test_set = ClaimDataset(test)\n",
    "train_dataloader = DataLoader(train_set, batch_size = 2, num_workers = 2, shuffle=True)\n",
    "val_dataloader = DataLoader(val_set, batch_size = 2, num_workers = 2, shuffle=True)\n",
    "test_dataloader = DataLoader(test_set, batch_size = 1, num_workers = 2, shuffle=False)\n",
    "\n",
    "input_features = train_set.number_of_features()\n",
    "\n",
    "model = ClaimClassifier(input_features)\n",
    "model.to(DEVICE)\n",
    "\n",
    "# class_weights = compute_class_weight('balanced',\n",
    "#                                      classes = np.unique(train[\"sys_fraud\"]),\n",
    "#                                      y = train[\"sys_fraud\"])\n",
    "#class_weights = torch.tensor(class_weights,dtype=torch.float)\n",
    "class_weights = torch.tensor([1.01, 1.0])\n",
    "print(class_weights)\n",
    "criterion = nn.CrossEntropyLoss() #weight = class_weights, reduction='mean')\n",
    "optimizer = torch.optim.Adam(model.parameters(), lr = 1.1e-4)\n",
    "\n",
    "model, preds, labels = train_model(model, criterion, optimizer, train_dataloader, val_dataloader, \n",
    "                                   DEVICE, epochs, max_patience)"
   ]
  },
  {
   "cell_type": "code",
   "execution_count": 14,
   "metadata": {
    "id": "apUHm6JXcR-Q",
    "scrolled": true
   },
   "outputs": [
    {
     "data": {
      "text/plain": [
       "<sklearn.metrics._plot.confusion_matrix.ConfusionMatrixDisplay at 0x7fd992d79d90>"
      ]
     },
     "execution_count": 14,
     "metadata": {},
     "output_type": "execute_result"
    },
    {
     "data": {
      "image/png": "[encoded data removed]",
      "text/plain": [
       "<Figure size 432x288 with 2 Axes>"
      ]
     },
     "metadata": {
      "needs_background": "light"
     },
     "output_type": "display_data"
    }
   ],
   "source": [
    "cm = confusion_matrix(labels, preds)\n",
    "\n",
    "cmd_obj = ConfusionMatrixDisplay(cm) \n",
    "\n",
    "\n",
    "cmd_obj.plot()"
   ]
  },
  {
   "cell_type": "code",
   "execution_count": 15,
   "metadata": {},
   "outputs": [
    {
     "name": "stdout",
     "output_type": "stream",
     "text": [
      "- - P R E D I C T I N G - -\n",
      "\n",
      "- Prediction Accuracy: 0.5810\n",
      "- Prediction Precision: 0.4779\n",
      "- Prediction Recall: 0.0078\n",
      "- Prediction F1: 0.0153\n",
      "- Prediction AUROC: 0.5743\n",
      "- Prediction loss: 0.7242\n",
      "- Prediction took: 31.7s\n",
      "\n",
      "Finished Predicting\n",
      "\n"
     ]
    }
   ],
   "source": [
    "preds, labels, probs, IDs = predict_model(model, criterion, optimizer, test_dataloader, DEVICE)"
   ]
  },
  {
   "cell_type": "code",
   "execution_count": 16,
   "metadata": {},
   "outputs": [
    {
     "data": {
      "image/png": "[encoded data removed]",
      "text/plain": [
       "<Figure size 432x288 with 2 Axes>"
      ]
     },
     "metadata": {
      "needs_background": "light"
     },
     "output_type": "display_data"
    }
   ],
   "source": [
    "cm = confusion_matrix(labels, preds)\n",
    "\n",
    "cmd_obj = ConfusionMatrixDisplay(cm) \n",
    "\n",
    "_ = cmd_obj.plot()"
   ]
  },
  {
   "cell_type": "code",
   "execution_count": 17,
   "metadata": {},
   "outputs": [],
   "source": [
    "from sklearn.metrics import accuracy_score, precision_score, recall_score, f1_score\n",
    "\n",
    "boundries = np.arange(0.0, 1.0, 0.01)\n",
    "r = []\n",
    "\n",
    "for b in boundries:\n",
    "  test_preds = [1 if x > b else 0 for x in probs]\n",
    "  f1 = f1_score(test_preds, labels)\n",
    "  r.append(f1)\n",
    "  if f1 >= max(r):\n",
    "    best_preds = test_preds\n",
    "  \n",
    "  "
   ]
  },
  {
   "cell_type": "code",
   "execution_count": 18,
   "metadata": {},
   "outputs": [
    {
     "data": {
      "text/plain": [
       "[<matplotlib.lines.Line2D at 0x7fd968210a30>]"
      ]
     },
     "execution_count": 18,
     "metadata": {},
     "output_type": "execute_result"
    },
    {
     "data": {
      "image/png": "[encoded data removed]",
      "text/plain": [
       "<Figure size 432x288 with 1 Axes>"
      ]
     },
     "metadata": {
      "needs_background": "light"
     },
     "output_type": "display_data"
    }
   ],
   "source": [
    "import matplotlib.pyplot as plt\n",
    "plt.plot(r)"
   ]
  },
  {
   "cell_type": "code",
   "execution_count": 19,
   "metadata": {},
   "outputs": [
    {
     "data": {
      "image/png": "[encoded data removed]",
      "text/plain": [
       "<Figure size 432x288 with 2 Axes>"
      ]
     },
     "metadata": {
      "needs_background": "light"
     },
     "output_type": "display_data"
    }
   ],
   "source": [
    "cm = confusion_matrix(labels, best_preds)\n",
    "\n",
    "cmd_obj = ConfusionMatrixDisplay(cm) \n",
    "\n",
    "_ = cmd_obj.plot()"
   ]
  },
  {
   "cell_type": "code",
   "execution_count": 20,
   "metadata": {},
   "outputs": [
    {
     "data": {
      "text/plain": [
       "0.8"
      ]
     },
     "execution_count": 20,
     "metadata": {},
     "output_type": "execute_result"
    }
   ],
   "source": [
    "boundries[np.argmax(r)]"
   ]
  },
  {
   "cell_type": "code",
   "execution_count": 21,
   "metadata": {},
   "outputs": [
    {
     "data": {
      "text/plain": [
       "0.03125"
      ]
     },
     "execution_count": 21,
     "metadata": {},
     "output_type": "execute_result"
    }
   ],
   "source": [
    "max(r)"
   ]
  },
  {
   "cell_type": "code",
   "execution_count": 22,
   "metadata": {},
   "outputs": [
    {
     "data": {
      "text/plain": [
       "ClaimClassifier(\n",
       "  (classifier1): Linear(in_features=23, out_features=64, bias=True)\n",
       "  (activation): ReLU()\n",
       "  (dropout): Dropout(p=0.1, inplace=False)\n",
       "  (classifier2): Linear(in_features=64, out_features=32, bias=True)\n",
       "  (classifier3): Linear(in_features=32, out_features=2, bias=True)\n",
       ")"
      ]
     },
     "execution_count": 22,
     "metadata": {},
     "output_type": "execute_result"
    }
   ],
   "source": [
    "best_model = ClaimClassifier(test_set.number_of_features())\n",
    "best_model.load_state_dict(torch.load(\"least_bad_model.mdl\"))\n",
    "best_model.eval()"
   ]
  },
  {
   "cell_type": "code",
   "execution_count": 23,
   "metadata": {},
   "outputs": [
    {
     "name": "stdout",
     "output_type": "stream",
     "text": [
      "- - P R E D I C T I N G - -\n",
      "\n",
      "- Prediction Accuracy: 0.6000\n",
      "- Prediction Precision: 0.4308\n",
      "- Prediction Recall: 0.6512\n",
      "- Prediction F1: 0.5185\n",
      "- Prediction AUROC: 0.6454\n",
      "- Prediction loss: 0.6608\n",
      "- Prediction took: 0.2s\n",
      "\n",
      "Finished Predicting\n",
      "\n"
     ]
    }
   ],
   "source": [
    "preds, labels, probs, IDs = predict_model(best_model, criterion, optimizer, val_dataloader, DEVICE)"
   ]
  },
  {
   "cell_type": "code",
   "execution_count": 24,
   "metadata": {},
   "outputs": [
    {
     "data": {
      "image/png": "[encoded data removed]",
      "text/plain": [
       "<Figure size 432x288 with 2 Axes>"
      ]
     },
     "metadata": {
      "needs_background": "light"
     },
     "output_type": "display_data"
    }
   ],
   "source": [
    "cm = confusion_matrix(labels, preds)\n",
    "\n",
    "cmd_obj = ConfusionMatrixDisplay(cm) \n",
    "\n",
    "_ = cmd_obj.plot()"
   ]
  },
  {
   "cell_type": "code",
   "execution_count": 25,
   "metadata": {},
   "outputs": [
    {
     "name": "stdout",
     "output_type": "stream",
     "text": [
      "- - P R E D I C T I N G - -\n",
      "\n",
      "- Prediction Accuracy: 0.7052\n",
      "- Prediction Precision: 0.4706\n",
      "- Prediction Recall: 0.0109\n",
      "- Prediction F1: 0.0213\n",
      "- Prediction AUROC: 0.5902\n",
      "- Prediction loss: 0.6223\n",
      "- Prediction took: 34.5s\n",
      "\n",
      "Finished Predicting\n",
      "\n"
     ]
    }
   ],
   "source": [
    "preds, labels, probs, IDs = predict_model(best_model, criterion, optimizer, test_dataloader, DEVICE)"
   ]
  },
  {
   "cell_type": "code",
   "execution_count": 26,
   "metadata": {},
   "outputs": [
    {
     "data": {
      "image/png": "[encoded data removed]",
      "text/plain": [
       "<Figure size 432x288 with 2 Axes>"
      ]
     },
     "metadata": {
      "needs_background": "light"
     },
     "output_type": "display_data"
    }
   ],
   "source": [
    "cm = confusion_matrix(labels, preds)\n",
    "\n",
    "cmd_obj = ConfusionMatrixDisplay(cm) \n",
    "\n",
    "_ = cmd_obj.plot()"
   ]
  },
  {
   "cell_type": "code",
   "execution_count": 27,
   "metadata": {},
   "outputs": [],
   "source": [
    "out = pd.DataFrame()\n",
    "out[\"ID\"] = IDs\n",
    "out[\"prediction\"] = preds\n",
    "out.to_csv(\"test_predictions.csv\", index=False)"
   ]
  },
  {
   "cell_type": "code",
   "execution_count": 28,
   "metadata": {},
   "outputs": [
    {
     "data": {
      "text/html": [
       "<div>\n",
       "<style scoped>\n",
       "    .dataframe tbody tr th:only-of-type {\n",
       "        vertical-align: middle;\n",
       "    }\n",
       "\n",
       "    .dataframe tbody tr th {\n",
       "        vertical-align: top;\n",
       "    }\n",
       "\n",
       "    .dataframe thead th {\n",
       "        text-align: right;\n",
       "    }\n",
       "</style>\n",
       "<table border=\"1\" class=\"dataframe\">\n",
       "  <thead>\n",
       "    <tr style=\"text-align: right;\">\n",
       "      <th></th>\n",
       "      <th>ID</th>\n",
       "      <th>prediction</th>\n",
       "    </tr>\n",
       "  </thead>\n",
       "  <tbody>\n",
       "    <tr>\n",
       "      <th>0</th>\n",
       "      <td>140152636</td>\n",
       "      <td>1.0</td>\n",
       "    </tr>\n",
       "    <tr>\n",
       "      <th>1</th>\n",
       "      <td>783277250</td>\n",
       "      <td>0.0</td>\n",
       "    </tr>\n",
       "    <tr>\n",
       "      <th>2</th>\n",
       "      <td>653694965</td>\n",
       "      <td>0.0</td>\n",
       "    </tr>\n",
       "    <tr>\n",
       "      <th>3</th>\n",
       "      <td>251228076</td>\n",
       "      <td>0.0</td>\n",
       "    </tr>\n",
       "    <tr>\n",
       "      <th>4</th>\n",
       "      <td>550974082</td>\n",
       "      <td>0.0</td>\n",
       "    </tr>\n",
       "    <tr>\n",
       "      <th>...</th>\n",
       "      <td>...</td>\n",
       "      <td>...</td>\n",
       "    </tr>\n",
       "    <tr>\n",
       "      <th>19952</th>\n",
       "      <td>240218806</td>\n",
       "      <td>1.0</td>\n",
       "    </tr>\n",
       "    <tr>\n",
       "      <th>19953</th>\n",
       "      <td>153849750</td>\n",
       "      <td>1.0</td>\n",
       "    </tr>\n",
       "    <tr>\n",
       "      <th>19954</th>\n",
       "      <td>931906496</td>\n",
       "      <td>0.0</td>\n",
       "    </tr>\n",
       "    <tr>\n",
       "      <th>19955</th>\n",
       "      <td>661998726</td>\n",
       "      <td>0.0</td>\n",
       "    </tr>\n",
       "    <tr>\n",
       "      <th>19956</th>\n",
       "      <td>594986363</td>\n",
       "      <td>0.0</td>\n",
       "    </tr>\n",
       "  </tbody>\n",
       "</table>\n",
       "<p>19957 rows × 2 columns</p>\n",
       "</div>"
      ],
      "text/plain": [
       "              ID  prediction\n",
       "0      140152636         1.0\n",
       "1      783277250         0.0\n",
       "2      653694965         0.0\n",
       "3      251228076         0.0\n",
       "4      550974082         0.0\n",
       "...          ...         ...\n",
       "19952  240218806         1.0\n",
       "19953  153849750         1.0\n",
       "19954  931906496         0.0\n",
       "19955  661998726         0.0\n",
       "19956  594986363         0.0\n",
       "\n",
       "[19957 rows x 2 columns]"
      ]
     },
     "execution_count": 28,
     "metadata": {},
     "output_type": "execute_result"
    }
   ],
   "source": [
    "out"
   ]
  },
  {
   "cell_type": "code",
   "execution_count": null,
   "metadata": {},
   "outputs": [],
   "source": []
  }
 ],
 "metadata": {
  "accelerator": "GPU",
  "colab": {
   "collapsed_sections": [],
   "name": "SentencePairsBert.ipynb",
   "provenance": []
  },
  "kernelspec": {
   "display_name": "Python 3",
   "language": "python",
   "name": "python3"
  },
  "language_info": {
   "codemirror_mode": {
    "name": "ipython",
    "version": 3
   },
   "file_extension": ".py",
   "mimetype": "text/x-python",
   "name": "python",
   "nbconvert_exporter": "python",
   "pygments_lexer": "ipython3",
   "version": "3.8.5"
  },
  "varInspector": {
   "cols": {
    "lenName": 16,
    "lenType": 16,
    "lenVar": 40
   },
   "kernels_config": {
    "python": {
     "delete_cmd_postfix": "",
     "delete_cmd_prefix": "del ",
     "library": "var_list.py",
     "varRefreshCmd": "print(var_dic_list())"
    },
    "r": {
     "delete_cmd_postfix": ") ",
     "delete_cmd_prefix": "rm(",
     "library": "var_list.r",
     "varRefreshCmd": "cat(var_dic_list()) "
    }
   },
   "types_to_exclude": [
    "module",
    "function",
    "builtin_function_or_method",
    "instance",
    "_Feature"
   ],
   "window_display": false
  },
  "widgets": {
   "application/vnd.jupyter.widget-state+json": {
    "010510af8b5543c3b82b7ccf3f00f88a": {
     "model_module": "@jupyter-widgets/controls",
     "model_module_version": "1.5.0",
     "model_name": "FloatProgressModel",
     "state": {
      "_dom_classes": [],
      "_model_module": "@jupyter-widgets/controls",
      "_model_module_version": "1.5.0",
      "_model_name": "FloatProgressModel",
      "_view_count": null,
      "_view_module": "@jupyter-widgets/controls",
      "_view_module_version": "1.5.0",
      "_view_name": "ProgressView",
      "bar_style": "success",
      "description": "Downloading: 100%",
      "description_tooltip": null,
      "layout": "IPY_MODEL_8e1f5f8aac6d419db453d2d2ea79b770",
      "max": 222296,
      "min": 0,
      "orientation": "horizontal",
      "style": "IPY_MODEL_2f530e09cd8848a7bba6438ee727377a",
      "value": 222296
     }
    },
    "0177d4058ee144c295ea15d8fac29245": {
     "model_module": "@jupyter-widgets/controls",
     "model_module_version": "1.5.0",
     "model_name": "HTMLModel",
     "state": {
      "_dom_classes": [],
      "_model_module": "@jupyter-widgets/controls",
      "_model_module_version": "1.5.0",
      "_model_name": "HTMLModel",
      "_view_count": null,
      "_view_module": "@jupyter-widgets/controls",
      "_view_module_version": "1.5.0",
      "_view_name": "HTMLView",
      "description": "",
      "description_tooltip": null,
      "layout": "IPY_MODEL_5213ee7ddc6344ec94c506a429e6cf11",
      "placeholder": "​",
      "style": "IPY_MODEL_f3d40a8291794ebcab57d47a09836470",
      "value": " 67.5M/442M [00:20&lt;00:10, 34.2MB/s]"
     }
    },
    "019e0d0e9f9e4d61a0130c4177b0ce12": {
     "model_module": "@jupyter-widgets/controls",
     "model_module_version": "1.5.0",
     "model_name": "ProgressStyleModel",
     "state": {
      "_model_module": "@jupyter-widgets/controls",
      "_model_module_version": "1.5.0",
      "_model_name": "ProgressStyleModel",
      "_view_count": null,
      "_view_module": "@jupyter-widgets/base",
      "_view_module_version": "1.2.0",
      "_view_name": "StyleView",
      "bar_color": null,
      "description_width": "initial"
     }
    },
    "02c20145f37b44a4bafd2860d86af902": {
     "model_module": "@jupyter-widgets/base",
     "model_module_version": "1.2.0",
     "model_name": "LayoutModel",
     "state": {
      "_model_module": "@jupyter-widgets/base",
      "_model_module_version": "1.2.0",
      "_model_name": "LayoutModel",
      "_view_count": null,
      "_view_module": "@jupyter-widgets/base",
      "_view_module_version": "1.2.0",
      "_view_name": "LayoutView",
      "align_content": null,
      "align_items": null,
      "align_self": null,
      "border": null,
      "bottom": null,
      "display": null,
      "flex": null,
      "flex_flow": null,
      "grid_area": null,
      "grid_auto_columns": null,
      "grid_auto_flow": null,
      "grid_auto_rows": null,
      "grid_column": null,
      "grid_gap": null,
      "grid_row": null,
      "grid_template_areas": null,
      "grid_template_columns": null,
      "grid_template_rows": null,
      "height": null,
      "justify_content": null,
      "justify_items": null,
      "left": null,
      "margin": null,
      "max_height": null,
      "max_width": null,
      "min_height": null,
      "min_width": null,
      "object_fit": null,
      "object_position": null,
      "order": null,
      "overflow": null,
      "overflow_x": null,
      "overflow_y": null,
      "padding": null,
      "right": null,
      "top": null,
      "visibility": null,
      "width": null
     }
    },
    "114b92da95f14848923fd578be65c199": {
     "model_module": "@jupyter-widgets/base",
     "model_module_version": "1.2.0",
     "model_name": "LayoutModel",
     "state": {
      "_model_module": "@jupyter-widgets/base",
      "_model_module_version": "1.2.0",
      "_model_name": "LayoutModel",
      "_view_count": null,
      "_view_module": "@jupyter-widgets/base",
      "_view_module_version": "1.2.0",
      "_view_name": "LayoutView",
      "align_content": null,
      "align_items": null,
      "align_self": null,
      "border": null,
      "bottom": null,
      "display": null,
      "flex": null,
      "flex_flow": null,
      "grid_area": null,
      "grid_auto_columns": null,
      "grid_auto_flow": null,
      "grid_auto_rows": null,
      "grid_column": null,
      "grid_gap": null,
      "grid_row": null,
      "grid_template_areas": null,
      "grid_template_columns": null,
      "grid_template_rows": null,
      "height": null,
      "justify_content": null,
      "justify_items": null,
      "left": null,
      "margin": null,
      "max_height": null,
      "max_width": null,
      "min_height": null,
      "min_width": null,
      "object_fit": null,
      "object_position": null,
      "order": null,
      "overflow": null,
      "overflow_x": null,
      "overflow_y": null,
      "padding": null,
      "right": null,
      "top": null,
      "visibility": null,
      "width": null
     }
    },
    "2f530e09cd8848a7bba6438ee727377a": {
     "model_module": "@jupyter-widgets/controls",
     "model_module_version": "1.5.0",
     "model_name": "ProgressStyleModel",
     "state": {
      "_model_module": "@jupyter-widgets/controls",
      "_model_module_version": "1.5.0",
      "_model_name": "ProgressStyleModel",
      "_view_count": null,
      "_view_module": "@jupyter-widgets/base",
      "_view_module_version": "1.2.0",
      "_view_name": "StyleView",
      "bar_color": null,
      "description_width": "initial"
     }
    },
    "3649e6527df54df9a667573c72bba0cf": {
     "model_module": "@jupyter-widgets/controls",
     "model_module_version": "1.5.0",
     "model_name": "FloatProgressModel",
     "state": {
      "_dom_classes": [],
      "_model_module": "@jupyter-widgets/controls",
      "_model_module_version": "1.5.0",
      "_model_name": "FloatProgressModel",
      "_view_count": null,
      "_view_module": "@jupyter-widgets/controls",
      "_view_module_version": "1.5.0",
      "_view_name": "ProgressView",
      "bar_style": "success",
      "description": "Downloading: 100%",
      "description_tooltip": null,
      "layout": "IPY_MODEL_114b92da95f14848923fd578be65c199",
      "max": 385,
      "min": 0,
      "orientation": "horizontal",
      "style": "IPY_MODEL_019e0d0e9f9e4d61a0130c4177b0ce12",
      "value": 385
     }
    },
    "3c4ac7838706432a897646a0c6ff3d3c": {
     "model_module": "@jupyter-widgets/controls",
     "model_module_version": "1.5.0",
     "model_name": "HBoxModel",
     "state": {
      "_dom_classes": [],
      "_model_module": "@jupyter-widgets/controls",
      "_model_module_version": "1.5.0",
      "_model_name": "HBoxModel",
      "_view_count": null,
      "_view_module": "@jupyter-widgets/controls",
      "_view_module_version": "1.5.0",
      "_view_name": "HBoxView",
      "box_style": "",
      "children": [
       "IPY_MODEL_3649e6527df54df9a667573c72bba0cf",
       "IPY_MODEL_7d03a1c2196e4878877e2a3f46f41fdd"
      ],
      "layout": "IPY_MODEL_dc0cefad50fa4c5dacc27eb0825aeec4"
     }
    },
    "421f1346dff94d34a433db6b51bc0f57": {
     "model_module": "@jupyter-widgets/controls",
     "model_module_version": "1.5.0",
     "model_name": "HTMLModel",
     "state": {
      "_dom_classes": [],
      "_model_module": "@jupyter-widgets/controls",
      "_model_module_version": "1.5.0",
      "_model_name": "HTMLModel",
      "_view_count": null,
      "_view_module": "@jupyter-widgets/controls",
      "_view_module_version": "1.5.0",
      "_view_name": "HTMLView",
      "description": "",
      "description_tooltip": null,
      "layout": "IPY_MODEL_5cac96369aae4c1bbe82eb0747506004",
      "placeholder": "​",
      "style": "IPY_MODEL_69de8de9dec34b188dc31462aab76641",
      "value": " 222k/222k [00:00&lt;00:00, 352kB/s]"
     }
    },
    "462464079d6748fbb617c2beef7820d7": {
     "model_module": "@jupyter-widgets/controls",
     "model_module_version": "1.5.0",
     "model_name": "ProgressStyleModel",
     "state": {
      "_model_module": "@jupyter-widgets/controls",
      "_model_module_version": "1.5.0",
      "_model_name": "ProgressStyleModel",
      "_view_count": null,
      "_view_module": "@jupyter-widgets/base",
      "_view_module_version": "1.2.0",
      "_view_name": "StyleView",
      "bar_color": null,
      "description_width": "initial"
     }
    },
    "5213ee7ddc6344ec94c506a429e6cf11": {
     "model_module": "@jupyter-widgets/base",
     "model_module_version": "1.2.0",
     "model_name": "LayoutModel",
     "state": {
      "_model_module": "@jupyter-widgets/base",
      "_model_module_version": "1.2.0",
      "_model_name": "LayoutModel",
      "_view_count": null,
      "_view_module": "@jupyter-widgets/base",
      "_view_module_version": "1.2.0",
      "_view_name": "LayoutView",
      "align_content": null,
      "align_items": null,
      "align_self": null,
      "border": null,
      "bottom": null,
      "display": null,
      "flex": null,
      "flex_flow": null,
      "grid_area": null,
      "grid_auto_columns": null,
      "grid_auto_flow": null,
      "grid_auto_rows": null,
      "grid_column": null,
      "grid_gap": null,
      "grid_row": null,
      "grid_template_areas": null,
      "grid_template_columns": null,
      "grid_template_rows": null,
      "height": null,
      "justify_content": null,
      "justify_items": null,
      "left": null,
      "margin": null,
      "max_height": null,
      "max_width": null,
      "min_height": null,
      "min_width": null,
      "object_fit": null,
      "object_position": null,
      "order": null,
      "overflow": null,
      "overflow_x": null,
      "overflow_y": null,
      "padding": null,
      "right": null,
      "top": null,
      "visibility": null,
      "width": null
     }
    },
    "5cac96369aae4c1bbe82eb0747506004": {
     "model_module": "@jupyter-widgets/base",
     "model_module_version": "1.2.0",
     "model_name": "LayoutModel",
     "state": {
      "_model_module": "@jupyter-widgets/base",
      "_model_module_version": "1.2.0",
      "_model_name": "LayoutModel",
      "_view_count": null,
      "_view_module": "@jupyter-widgets/base",
      "_view_module_version": "1.2.0",
      "_view_name": "LayoutView",
      "align_content": null,
      "align_items": null,
      "align_self": null,
      "border": null,
      "bottom": null,
      "display": null,
      "flex": null,
      "flex_flow": null,
      "grid_area": null,
      "grid_auto_columns": null,
      "grid_auto_flow": null,
      "grid_auto_rows": null,
      "grid_column": null,
      "grid_gap": null,
      "grid_row": null,
      "grid_template_areas": null,
      "grid_template_columns": null,
      "grid_template_rows": null,
      "height": null,
      "justify_content": null,
      "justify_items": null,
      "left": null,
      "margin": null,
      "max_height": null,
      "max_width": null,
      "min_height": null,
      "min_width": null,
      "object_fit": null,
      "object_position": null,
      "order": null,
      "overflow": null,
      "overflow_x": null,
      "overflow_y": null,
      "padding": null,
      "right": null,
      "top": null,
      "visibility": null,
      "width": null
     }
    },
    "69de8de9dec34b188dc31462aab76641": {
     "model_module": "@jupyter-widgets/controls",
     "model_module_version": "1.5.0",
     "model_name": "DescriptionStyleModel",
     "state": {
      "_model_module": "@jupyter-widgets/controls",
      "_model_module_version": "1.5.0",
      "_model_name": "DescriptionStyleModel",
      "_view_count": null,
      "_view_module": "@jupyter-widgets/base",
      "_view_module_version": "1.2.0",
      "_view_name": "StyleView",
      "description_width": ""
     }
    },
    "6a56e1d8d1684c25afa1f27c211dfa62": {
     "model_module": "@jupyter-widgets/controls",
     "model_module_version": "1.5.0",
     "model_name": "HBoxModel",
     "state": {
      "_dom_classes": [],
      "_model_module": "@jupyter-widgets/controls",
      "_model_module_version": "1.5.0",
      "_model_name": "HBoxModel",
      "_view_count": null,
      "_view_module": "@jupyter-widgets/controls",
      "_view_module_version": "1.5.0",
      "_view_name": "HBoxView",
      "box_style": "",
      "children": [
       "IPY_MODEL_6b8dbdeff59e4d22a42754cec7594e3c",
       "IPY_MODEL_0177d4058ee144c295ea15d8fac29245"
      ],
      "layout": "IPY_MODEL_02c20145f37b44a4bafd2860d86af902"
     }
    },
    "6b8dbdeff59e4d22a42754cec7594e3c": {
     "model_module": "@jupyter-widgets/controls",
     "model_module_version": "1.5.0",
     "model_name": "FloatProgressModel",
     "state": {
      "_dom_classes": [],
      "_model_module": "@jupyter-widgets/controls",
      "_model_module_version": "1.5.0",
      "_model_name": "FloatProgressModel",
      "_view_count": null,
      "_view_module": "@jupyter-widgets/controls",
      "_view_module_version": "1.5.0",
      "_view_name": "ProgressView",
      "bar_style": "",
      "description": "Downloading:  15%",
      "description_tooltip": null,
      "layout": "IPY_MODEL_c5e79af5e03d42f494d826434a4dac05",
      "max": 442301670,
      "min": 0,
      "orientation": "horizontal",
      "style": "IPY_MODEL_462464079d6748fbb617c2beef7820d7",
      "value": 67470336
     }
    },
    "7d03a1c2196e4878877e2a3f46f41fdd": {
     "model_module": "@jupyter-widgets/controls",
     "model_module_version": "1.5.0",
     "model_name": "HTMLModel",
     "state": {
      "_dom_classes": [],
      "_model_module": "@jupyter-widgets/controls",
      "_model_module_version": "1.5.0",
      "_model_name": "HTMLModel",
      "_view_count": null,
      "_view_module": "@jupyter-widgets/controls",
      "_view_module_version": "1.5.0",
      "_view_name": "HTMLView",
      "description": "",
      "description_tooltip": null,
      "layout": "IPY_MODEL_a1c99e792dab47968bb8c11d5934d18a",
      "placeholder": "​",
      "style": "IPY_MODEL_c64dbfeab4324c64843e5d6e08443079",
      "value": " 385/385 [00:00&lt;00:00, 1.42kB/s]"
     }
    },
    "7e9159f44b6647faa45e44d2e44649d3": {
     "model_module": "@jupyter-widgets/base",
     "model_module_version": "1.2.0",
     "model_name": "LayoutModel",
     "state": {
      "_model_module": "@jupyter-widgets/base",
      "_model_module_version": "1.2.0",
      "_model_name": "LayoutModel",
      "_view_count": null,
      "_view_module": "@jupyter-widgets/base",
      "_view_module_version": "1.2.0",
      "_view_name": "LayoutView",
      "align_content": null,
      "align_items": null,
      "align_self": null,
      "border": null,
      "bottom": null,
      "display": null,
      "flex": null,
      "flex_flow": null,
      "grid_area": null,
      "grid_auto_columns": null,
      "grid_auto_flow": null,
      "grid_auto_rows": null,
      "grid_column": null,
      "grid_gap": null,
      "grid_row": null,
      "grid_template_areas": null,
      "grid_template_columns": null,
      "grid_template_rows": null,
      "height": null,
      "justify_content": null,
      "justify_items": null,
      "left": null,
      "margin": null,
      "max_height": null,
      "max_width": null,
      "min_height": null,
      "min_width": null,
      "object_fit": null,
      "object_position": null,
      "order": null,
      "overflow": null,
      "overflow_x": null,
      "overflow_y": null,
      "padding": null,
      "right": null,
      "top": null,
      "visibility": null,
      "width": null
     }
    },
    "8e1f5f8aac6d419db453d2d2ea79b770": {
     "model_module": "@jupyter-widgets/base",
     "model_module_version": "1.2.0",
     "model_name": "LayoutModel",
     "state": {
      "_model_module": "@jupyter-widgets/base",
      "_model_module_version": "1.2.0",
      "_model_name": "LayoutModel",
      "_view_count": null,
      "_view_module": "@jupyter-widgets/base",
      "_view_module_version": "1.2.0",
      "_view_name": "LayoutView",
      "align_content": null,
      "align_items": null,
      "align_self": null,
      "border": null,
      "bottom": null,
      "display": null,
      "flex": null,
      "flex_flow": null,
      "grid_area": null,
      "grid_auto_columns": null,
      "grid_auto_flow": null,
      "grid_auto_rows": null,
      "grid_column": null,
      "grid_gap": null,
      "grid_row": null,
      "grid_template_areas": null,
      "grid_template_columns": null,
      "grid_template_rows": null,
      "height": null,
      "justify_content": null,
      "justify_items": null,
      "left": null,
      "margin": null,
      "max_height": null,
      "max_width": null,
      "min_height": null,
      "min_width": null,
      "object_fit": null,
      "object_position": null,
      "order": null,
      "overflow": null,
      "overflow_x": null,
      "overflow_y": null,
      "padding": null,
      "right": null,
      "top": null,
      "visibility": null,
      "width": null
     }
    },
    "a1c99e792dab47968bb8c11d5934d18a": {
     "model_module": "@jupyter-widgets/base",
     "model_module_version": "1.2.0",
     "model_name": "LayoutModel",
     "state": {
      "_model_module": "@jupyter-widgets/base",
      "_model_module_version": "1.2.0",
      "_model_name": "LayoutModel",
      "_view_count": null,
      "_view_module": "@jupyter-widgets/base",
      "_view_module_version": "1.2.0",
      "_view_name": "LayoutView",
      "align_content": null,
      "align_items": null,
      "align_self": null,
      "border": null,
      "bottom": null,
      "display": null,
      "flex": null,
      "flex_flow": null,
      "grid_area": null,
      "grid_auto_columns": null,
      "grid_auto_flow": null,
      "grid_auto_rows": null,
      "grid_column": null,
      "grid_gap": null,
      "grid_row": null,
      "grid_template_areas": null,
      "grid_template_columns": null,
      "grid_template_rows": null,
      "height": null,
      "justify_content": null,
      "justify_items": null,
      "left": null,
      "margin": null,
      "max_height": null,
      "max_width": null,
      "min_height": null,
      "min_width": null,
      "object_fit": null,
      "object_position": null,
      "order": null,
      "overflow": null,
      "overflow_x": null,
      "overflow_y": null,
      "padding": null,
      "right": null,
      "top": null,
      "visibility": null,
      "width": null
     }
    },
    "a8c168b7bd47447c8353db864f6ab6b9": {
     "model_module": "@jupyter-widgets/controls",
     "model_module_version": "1.5.0",
     "model_name": "HBoxModel",
     "state": {
      "_dom_classes": [],
      "_model_module": "@jupyter-widgets/controls",
      "_model_module_version": "1.5.0",
      "_model_name": "HBoxModel",
      "_view_count": null,
      "_view_module": "@jupyter-widgets/controls",
      "_view_module_version": "1.5.0",
      "_view_name": "HBoxView",
      "box_style": "",
      "children": [
       "IPY_MODEL_010510af8b5543c3b82b7ccf3f00f88a",
       "IPY_MODEL_421f1346dff94d34a433db6b51bc0f57"
      ],
      "layout": "IPY_MODEL_7e9159f44b6647faa45e44d2e44649d3"
     }
    },
    "c5e79af5e03d42f494d826434a4dac05": {
     "model_module": "@jupyter-widgets/base",
     "model_module_version": "1.2.0",
     "model_name": "LayoutModel",
     "state": {
      "_model_module": "@jupyter-widgets/base",
      "_model_module_version": "1.2.0",
      "_model_name": "LayoutModel",
      "_view_count": null,
      "_view_module": "@jupyter-widgets/base",
      "_view_module_version": "1.2.0",
      "_view_name": "LayoutView",
      "align_content": null,
      "align_items": null,
      "align_self": null,
      "border": null,
      "bottom": null,
      "display": null,
      "flex": null,
      "flex_flow": null,
      "grid_area": null,
      "grid_auto_columns": null,
      "grid_auto_flow": null,
      "grid_auto_rows": null,
      "grid_column": null,
      "grid_gap": null,
      "grid_row": null,
      "grid_template_areas": null,
      "grid_template_columns": null,
      "grid_template_rows": null,
      "height": null,
      "justify_content": null,
      "justify_items": null,
      "left": null,
      "margin": null,
      "max_height": null,
      "max_width": null,
      "min_height": null,
      "min_width": null,
      "object_fit": null,
      "object_position": null,
      "order": null,
      "overflow": null,
      "overflow_x": null,
      "overflow_y": null,
      "padding": null,
      "right": null,
      "top": null,
      "visibility": null,
      "width": null
     }
    },
    "c64dbfeab4324c64843e5d6e08443079": {
     "model_module": "@jupyter-widgets/controls",
     "model_module_version": "1.5.0",
     "model_name": "DescriptionStyleModel",
     "state": {
      "_model_module": "@jupyter-widgets/controls",
      "_model_module_version": "1.5.0",
      "_model_name": "DescriptionStyleModel",
      "_view_count": null,
      "_view_module": "@jupyter-widgets/base",
      "_view_module_version": "1.2.0",
      "_view_name": "StyleView",
      "description_width": ""
     }
    },
    "dc0cefad50fa4c5dacc27eb0825aeec4": {
     "model_module": "@jupyter-widgets/base",
     "model_module_version": "1.2.0",
     "model_name": "LayoutModel",
     "state": {
      "_model_module": "@jupyter-widgets/base",
      "_model_module_version": "1.2.0",
      "_model_name": "LayoutModel",
      "_view_count": null,
      "_view_module": "@jupyter-widgets/base",
      "_view_module_version": "1.2.0",
      "_view_name": "LayoutView",
      "align_content": null,
      "align_items": null,
      "align_self": null,
      "border": null,
      "bottom": null,
      "display": null,
      "flex": null,
      "flex_flow": null,
      "grid_area": null,
      "grid_auto_columns": null,
      "grid_auto_flow": null,
      "grid_auto_rows": null,
      "grid_column": null,
      "grid_gap": null,
      "grid_row": null,
      "grid_template_areas": null,
      "grid_template_columns": null,
      "grid_template_rows": null,
      "height": null,
      "justify_content": null,
      "justify_items": null,
      "left": null,
      "margin": null,
      "max_height": null,
      "max_width": null,
      "min_height": null,
      "min_width": null,
      "object_fit": null,
      "object_position": null,
      "order": null,
      "overflow": null,
      "overflow_x": null,
      "overflow_y": null,
      "padding": null,
      "right": null,
      "top": null,
      "visibility": null,
      "width": null
     }
    },
    "f3d40a8291794ebcab57d47a09836470": {
     "model_module": "@jupyter-widgets/controls",
     "model_module_version": "1.5.0",
     "model_name": "DescriptionStyleModel",
     "state": {
      "_model_module": "@jupyter-widgets/controls",
      "_model_module_version": "1.5.0",
      "_model_name": "DescriptionStyleModel",
      "_view_count": null,
      "_view_module": "@jupyter-widgets/base",
      "_view_module_version": "1.2.0",
      "_view_name": "StyleView",
      "description_width": ""
     }
    }
   }
  }
 },
 "nbformat": 4,
 "nbformat_minor": 1
}
